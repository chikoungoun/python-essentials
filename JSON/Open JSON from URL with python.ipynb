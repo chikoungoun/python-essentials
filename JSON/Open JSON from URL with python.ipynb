{
 "cells": [
  {
   "cell_type": "markdown",
   "metadata": {},
   "source": [
    "# Read json file from Drive"
   ]
  },
  {
   "cell_type": "code",
   "execution_count": 1,
   "metadata": {},
   "outputs": [],
   "source": [
    "import urllib.request, json"
   ]
  },
  {
   "cell_type": "code",
   "execution_count": 11,
   "metadata": {},
   "outputs": [
    {
     "name": "stdout",
     "output_type": "stream",
     "text": [
      "[{'noms': 'Spider-Man: Far From Home', 'date': 'Le 11 juillet', 'heure': 'à 17h00 - 22h30', 'image': 'http://www.renaissance.ma/img/affiche/600/thumb_Spider.jpg', 'lien': 'http://www.renaissance.ma/content/enSalle', 'description': \"\\n\\t\\t\\t\\t\\t\\t\\t\\tL'araignée sympa du quartier décide de rejoindre ses meilleurs amis Ned, MJ, et le reste de la bande pour des vacances en Europe. Cependant, le projet de Peter de laisser son costume de super-héros derrière lui pendant quelques semaines est rapidement compromis quand il accepte à contrecoeur d'aider Nick Fury à découvrir le mystère de plusieurs attaques de créatures, qui ravagent le continent !                            \", 'lieu': 'Espace Renaissance'}, {'noms': 'Toy Story 4', 'date': 'Du 10 au 11 juillet', 'heure': 'Tous les jours à   14h30', 'image': 'http://www.renaissance.ma/img/affiche/601/thumb_toy4.jpg', 'lien': 'http://www.renaissance.ma/content/enSalle', 'description': \"\\n\\t\\t\\t\\t\\t\\t\\t\\tWoody a toujours privilégié la joie et le bien-être de ses jeunes propriétaires – Andy puis Bonnie – et de ses compagnons, n'hésitant pas à prendre tous les risques pour eux, aussi inconsidérés soient-ils. L'arrivée de Forky un nouveau jouet qui ne veut pas en être un dans la chambre de Bonnie met toute la petite bande en émoi. C'est le début d'une grande aventure et d'un extraordinaire voyage pour Woody et ses amis. Le cowboy va découvrir à quel point le monde peut être vaste pour un jouet…                            \", 'lieu': 'Espace Renaissance'}]\n"
     ]
    }
   ],
   "source": [
    "with urllib.request.urlopen(\"https://raw.githubusercontent.com/chikoungoun/Scraping/master/Maroc%20Culture/Renaissance/renaissance_records\") as url:\n",
    "    data = json.loads(url.read().decode())\n",
    "    print(data)"
   ]
  }
 ],
 "metadata": {
  "kernelspec": {
   "display_name": "Python 3",
   "language": "python",
   "name": "python3"
  },
  "language_info": {
   "codemirror_mode": {
    "name": "ipython",
    "version": 3
   },
   "file_extension": ".py",
   "mimetype": "text/x-python",
   "name": "python",
   "nbconvert_exporter": "python",
   "pygments_lexer": "ipython3",
   "version": "3.6.1"
  }
 },
 "nbformat": 4,
 "nbformat_minor": 2
}
