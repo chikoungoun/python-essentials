{
 "cells": [
  {
   "cell_type": "markdown",
   "metadata": {},
   "source": [
    "# Trying to upload file to Github"
   ]
  },
  {
   "cell_type": "code",
   "execution_count": 1,
   "metadata": {},
   "outputs": [],
   "source": [
    "from github import Github"
   ]
  },
  {
   "cell_type": "code",
   "execution_count": 2,
   "metadata": {},
   "outputs": [],
   "source": [
    "g = Github('API_Key')"
   ]
  },
  {
   "cell_type": "code",
   "execution_count": 3,
   "metadata": {},
   "outputs": [
    {
     "data": {
      "text/plain": [
       "AuthenticatedUser(login=None)"
      ]
     },
     "execution_count": 3,
     "metadata": {},
     "output_type": "execute_result"
    }
   ],
   "source": [
    "g.get_user()"
   ]
  },
  {
   "cell_type": "code",
   "execution_count": 4,
   "metadata": {},
   "outputs": [],
   "source": [
    "repo = g.get_user().get_repo('Podev')"
   ]
  },
  {
   "cell_type": "code",
   "execution_count": 8,
   "metadata": {},
   "outputs": [],
   "source": [
    "from git import Repo"
   ]
  },
  {
   "cell_type": "markdown",
   "metadata": {},
   "source": [
    "https://gitpython.readthedocs.io/en/stable/tutorial.html"
   ]
  },
  {
   "cell_type": "code",
   "execution_count": 16,
   "metadata": {},
   "outputs": [],
   "source": [
    "import base64\n",
    "from github import Github\n",
    "from github import InputGitTreeElement\n",
    "\n",
    "\n",
    "file_list = [\n",
    "    'jumbo.txt',\n",
    "    'polo.txt'\n",
    "]\n",
    "\n",
    "file_names = [\n",
    "    'jumbo.txt',\n",
    "    'polo.txt'\n",
    "]\n",
    "commit_message = 'python update 2'\n",
    "master_ref = repo.get_git_ref('heads/master')\n",
    "master_sha = master_ref.object.sha\n",
    "base_tree = repo.get_git_tree(master_sha)\n",
    "element_list = list()\n",
    "for i, entry in enumerate(file_list):\n",
    "    with open(entry) as input_file:\n",
    "        data = input_file.read()\n",
    "    if entry.endswith('.png'):\n",
    "        data = base64.b64encode(data)\n",
    "    element = InputGitTreeElement(file_names[i], '100644', 'blob', data)\n",
    "    element_list.append(element)\n",
    "tree = repo.create_git_tree(element_list, base_tree)\n",
    "parent = repo.get_git_commit(master_sha)\n",
    "commit = repo.create_git_commit(commit_message, tree, [parent])\n",
    "master_ref.edit(commit.sha)"
   ]
  },
  {
   "cell_type": "markdown",
   "metadata": {},
   "source": [
    "https://stackoverflow.com/questions/50071841/how-to-push-local-files-to-github-using-python-or-post-a-commit-via-python"
   ]
  },
  {
   "cell_type": "code",
   "execution_count": null,
   "metadata": {},
   "outputs": [],
   "source": []
  }
 ],
 "metadata": {
  "kernelspec": {
   "display_name": "Python 3",
   "language": "python",
   "name": "python3"
  },
  "language_info": {
   "codemirror_mode": {
    "name": "ipython",
    "version": 3
   },
   "file_extension": ".py",
   "mimetype": "text/x-python",
   "name": "python",
   "nbconvert_exporter": "python",
   "pygments_lexer": "ipython3",
   "version": "3.6.1"
  }
 },
 "nbformat": 4,
 "nbformat_minor": 2
}
