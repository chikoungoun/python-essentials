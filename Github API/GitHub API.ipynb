{
 "cells": [
  {
   "cell_type": "markdown",
   "metadata": {},
   "source": [
    "# Github API"
   ]
  },
  {
   "cell_type": "code",
   "execution_count": null,
   "metadata": {},
   "outputs": [],
   "source": []
  },
  {
   "cell_type": "code",
   "execution_count": 2,
   "metadata": {},
   "outputs": [],
   "source": [
    "from github import Github"
   ]
  },
  {
   "cell_type": "code",
   "execution_count": 3,
   "metadata": {},
   "outputs": [],
   "source": [
    "g = Github('API_KEY')"
   ]
  },
  {
   "cell_type": "code",
   "execution_count": 4,
   "metadata": {},
   "outputs": [
    {
     "name": "stdout",
     "output_type": "stream",
     "text": [
      "100-pandas-puzzles\n",
      "Android\n",
      "cheesesquare\n",
      "code_snippets\n",
      "ecommerce-linear-reg\n",
      "Finance-Api-in-Python\n",
      "FootballData\n",
      "improved-memory\n",
      "kaggle-titanic\n",
      "Machine-Learning\n",
      "Mai2015\n",
      "masonry\n",
      "newboston\n",
      "OpenIntro\n",
      "pandas-datareader-applications\n",
      "Pandas-Essentials\n",
      "pandas_exercises\n",
      "pydata-book\n",
      "Python-book-wes\n",
      "python-essentials\n",
      "Python-for-Datascience---jportilla\n",
      "python-scraping\n",
      "quickdraw-dataset\n",
      "recipes\n",
      "reflections\n",
      "REST-API\n",
      "Scraping\n",
      "seaborn-data\n",
      "Stack-overflow-Answers\n",
      "Stats-Maroc\n",
      "ud839_Miwok\n",
      "ud851-Exercises\n",
      "ud851-Sunshine\n",
      "Venn-Diagram-in-Python\n",
      "Visualization\n"
     ]
    }
   ],
   "source": [
    "for repo in g.get_user().get_repos():\n",
    "    print(repo.name)"
   ]
  },
  {
   "cell_type": "code",
   "execution_count": null,
   "metadata": {},
   "outputs": [],
   "source": []
  }
 ],
 "metadata": {
  "kernelspec": {
   "display_name": "Python 3",
   "language": "python",
   "name": "python3"
  },
  "language_info": {
   "codemirror_mode": {
    "name": "ipython",
    "version": 3
   },
   "file_extension": ".py",
   "mimetype": "text/x-python",
   "name": "python",
   "nbconvert_exporter": "python",
   "pygments_lexer": "ipython3",
   "version": "3.6.1"
  }
 },
 "nbformat": 4,
 "nbformat_minor": 2
}
