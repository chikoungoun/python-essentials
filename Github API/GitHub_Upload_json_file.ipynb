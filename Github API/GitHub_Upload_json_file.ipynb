{
 "cells": [
  {
   "cell_type": "markdown",
   "metadata": {},
   "source": [
    "# Uploading a word json with pyGithub"
   ]
  },
  {
   "cell_type": "code",
   "execution_count": 1,
   "metadata": {},
   "outputs": [],
   "source": [
    "from github import Github"
   ]
  },
  {
   "cell_type": "code",
   "execution_count": 2,
   "metadata": {},
   "outputs": [],
   "source": [
    "g = Github('API_KEY')"
   ]
  },
  {
   "cell_type": "code",
   "execution_count": 3,
   "metadata": {},
   "outputs": [
    {
     "data": {
      "text/plain": [
       "AuthenticatedUser(login=None)"
      ]
     },
     "execution_count": 3,
     "metadata": {},
     "output_type": "execute_result"
    }
   ],
   "source": [
    "g.get_user()"
   ]
  },
  {
   "cell_type": "code",
   "execution_count": 4,
   "metadata": {},
   "outputs": [],
   "source": [
    "repo = g.get_user().get_repo('Podev')"
   ]
  },
  {
   "cell_type": "code",
   "execution_count": 5,
   "metadata": {},
   "outputs": [],
   "source": [
    "# Reading the json file\n",
    "import json\n",
    "\n",
    "file_name = 'xcombine_records.json'\n",
    "with open(file_name) as input_file:\n",
    "    data = input_file.read()"
   ]
  },
  {
   "cell_type": "code",
   "execution_count": 6,
   "metadata": {},
   "outputs": [
    {
     "data": {
      "text/plain": [
       "'[{\"noms\":\"LES FR\\\\u00c8RES SISTERS (THE SISTERS BROTHERS)\",\"date\":\" dimanche 13 janv.\",\"heure\":\" 18:30\",\"image\":\"https:\\\\/\\\\/if-maroc.org\\\\/rabat\\\\/wp-content\\\\/uploads\\\\/sites\\\\/18\\\\/2018\\\\/12\\\\/lesfreressisters-360x488.jpg\",\"lien\":\"https:\\\\/\\\\/if-maroc.org\\\\/rabat\\\\/film\\\\/les-freres-sisters-the-sisters-brothers\\\\/\",\"description\":\"Charlie et Eli Sisters \\\\u00e9voluent dans un monde sauvage et hostile, ils ont du sang sur les mains : celui de criminels, celui d\\\\u2019innocents\\\\u2026 Ils n\\\\u2019\\\\u00e9prouvent aucun \\\\u00e9tat d\\\\u2019\\\\u00e2me \\\\u00e0 tuer. C\\\\u2019est leur m\\\\u00e9tier. Charlie, le cadet, est n\\\\u00e9 pour \\\\u00e7a. Eli, lui, ne r\\\\u00eave que d\\\\u2019une vie normale. Ils sont engag\\\\u00e9s par le Commodore pour rechercher et tuer un homme. De l\\\\u2019Oregon \\\\u00e0 la Californie, une traque implacable commence, un parcours initiatique qui va \\\\u00e9prouver ce lien fou qui les unit. Un chemin vers leur humanit\\\\u00e9 ?\",\"lieu\":\"Salle G\\\\u00e9rard Philipe                                                                     -                                                                     Rabat\"},{\"noms\":\"16 LEVERS DE SOLEIL\",\"date\":\" dimanche 20 janv.\",\"heure\":\" 18:30\",\"image\":\"https:\\\\/\\\\/if-maroc.org\\\\/rabat\\\\/wp-content\\\\/uploads\\\\/sites\\\\/18\\\\/2019\\\\/01\\\\/16leversdesoleil-360x488.jpg\",\"lien\":\"https:\\\\/\\\\/if-maroc.org\\\\/rabat\\\\/film\\\\/16-levers-de-soleil\\\\/\",\"description\":\"S\\\\u2019envoler pour l\\\\u2019espace. C\\\\u2019est ce r\\\\u00eave que Thomas Pesquet a r\\\\u00e9alis\\\\u00e9\\\\u0301 en d\\\\u00e9collant depuis la base de Ba\\\\u00efkonour. A 450 kilom\\\\u00e8tres de la Terre, durant ces six mois ou\\\\u0300 le monde semble basculer dans l\\\\u2019inconnu, un dialogue se tisse entre l\\\\u2019astronaute et l\\\\u2019\\\\u0153uvre visionnaire de Saint Exup\\\\u00e9ry qu\\\\u2019il a emport\\\\u00e9e dans la station spatiale.\",\"lieu\":\"Salle G\\\\u00e9rard Philipe                                                                     -                                                                     Rabat\"},{\"noms\":\"L\\\\u2019AMOUR FLOU\",\"date\":\" dimanche 27 janv.\",\"heure\":\" 18:30\",\"image\":\"https:\\\\/\\\\/if-maroc.org\\\\/rabat\\\\/wp-content\\\\/uploads\\\\/sites\\\\/18\\\\/2018\\\\/12\\\\/lamourflou-360x488.jpg\",\"lien\":\"https:\\\\/\\\\/if-maroc.org\\\\/rabat\\\\/film\\\\/lamour-flou\\\\/\",\"description\":\"Romane et Philippe se s\\\\u00e9parent. Apr\\\\u00e8s 10 ans de vie commune, deux enfants et un chien, ils ne s\\\\u2019aiment plus. Enfin\\\\u2026 ils ne sont plus amoureux. Mais ils s\\\\u2019aiment quand m\\\\u00eame. Beaucoup. Trop pour se s\\\\u00e9parer vraiment\\\\u00a0? Bref\\\\u2026C\\\\u2019est flou. Alors, sous le regard circonspect de leur entourage, ils accouchent ensemble d\\\\u2019un \\\\u00ab\\\\u00a0s\\\\u00e9partement\\\\u00a0\\\\u00bb : deux appartements s\\\\u00e9par\\\\u00e9s, communiquant par\\\\u2026 la chambre de leurs enfants ! Peut-on se s\\\\u00e9parer ensemble\\\\u00a0? Peut-on refaire sa vie, sans la d\\\\u00e9faire\\\\u00a0?\",\"lieu\":\"Salle G\\\\u00e9rard Philipe                                                                     -                                                                     Rabat\"},{\"noms\":\"CAPHARNA\\\\u00dcM\",\"date\":\" dimanche 03 f\\\\u00e9vr.\",\"heure\":\" 18:30\",\"image\":\"https:\\\\/\\\\/if-maroc.org\\\\/rabat\\\\/wp-content\\\\/uploads\\\\/sites\\\\/18\\\\/2018\\\\/12\\\\/capharnaum-360x488.jpg\",\"lien\":\"https:\\\\/\\\\/if-maroc.org\\\\/rabat\\\\/film\\\\/capharnaum\\\\/\",\"description\":\"\\\\u00c0 l\\\\u2019int\\\\u00e9rieur d\\\\u2019un tribunal, Zain, un gar\\\\u00e7on de 12 ans, est pr\\\\u00e9sent\\\\u00e9 devant le juge. \\\\u00c0 la question : \\\\u00a0\\\\u00bb Pourquoi attaquez-vous vos parents en justice ? \\\\u00ab\\\\u00a0, Zain lui r\\\\u00e9pond : \\\\u00a0\\\\u00bb Pour m\\\\u2019avoir donn\\\\u00e9 la vie ! \\\\u00ab\\\\u00a0. Capharna\\\\u00fcm retrace l\\\\u2019incroyable parcours de cet enfant en qu\\\\u00eate d\\\\u2019identit\\\\u00e9 et qui se rebelle contre la vie qu\\\\u2019on cherche \\\\u00e0 lui imposer.\",\"lieu\":\"Salle G\\\\u00e9rard Philipe                                                                     -                                                                     Rabat\"},{\"noms\":\"AMANDA\",\"date\":\" dimanche 10 f\\\\u00e9vr.\",\"heure\":\" 18:30\",\"image\":\"https:\\\\/\\\\/if-maroc.org\\\\/rabat\\\\/wp-content\\\\/uploads\\\\/sites\\\\/18\\\\/2018\\\\/12\\\\/amanda-360x488.jpg\",\"lien\":\"https:\\\\/\\\\/if-maroc.org\\\\/rabat\\\\/film\\\\/amanda\\\\/\",\"description\":\"Paris, de nos jours. David, 24 ans, vit au pr\\\\u00e9sent. Il jongle entre diff\\\\u00e9rents petits boulots et recule, pour un temps encore, l\\\\u2019heure des choix plus engageants. Le cours tranquille des choses vole en \\\\u00e9clats quand sa s\\\\u0153ur a\\\\u00een\\\\u00e9e meurt brutalement. Il se retrouve alors en charge de sa ni\\\\u00e8ce de 7 ans, Amanda.\",\"lieu\":\"Salle G\\\\u00e9rard Philipe                                                                     -                                                                     Rabat\"},{\"noms\":\"LOLA ET SES FRERES\",\"date\":\" dimanche 17 f\\\\u00e9vr.\",\"heure\":\" 18:30\",\"image\":\"https:\\\\/\\\\/if-maroc.org\\\\/rabat\\\\/wp-content\\\\/uploads\\\\/sites\\\\/18\\\\/2018\\\\/12\\\\/lolaetsesfreres-360x488.jpg\",\"lien\":\"https:\\\\/\\\\/if-maroc.org\\\\/rabat\\\\/film\\\\/lola-et-ses-freres\\\\/\",\"description\":\"Lola a deux fr\\\\u00e8res : Benoit, qui se marie pour la 3\\\\u00e8me fois, et Pierre, qui d\\\\u00e9barque en retard au mariage\\\\u2026 Excuses, reproches, engueulades, brouilles, chacun essaye de vivre sa vie de son c\\\\u00f4t\\\\u00e9. Benoit va devenir p\\\\u00e8re sans y \\\\u00eatre pr\\\\u00eat. Lola fait la rencontre de Zoher alors qu\\\\u2019elle s\\\\u2019occupe de son divorce. Quant \\\\u00e0 Pierre, ses probl\\\\u00e8mes professionnels s\\\\u2019enveniment. Tout dans leur vie devrait les \\\\u00e9loigner, mais ces trois-l\\\\u00e0 sont ins\\\\u00e9parables.\",\"lieu\":\"Salle G\\\\u00e9rard Philipe                                                                     -                                                                     Rabat\"},{\"noms\":\"UNE AFFAIRE DE FAMILLE\",\"date\":\" dimanche 24 f\\\\u00e9vr.\",\"heure\":\" 18:30\",\"image\":\"https:\\\\/\\\\/if-maroc.org\\\\/rabat\\\\/wp-content\\\\/uploads\\\\/sites\\\\/18\\\\/2018\\\\/12\\\\/uneaffairedefamille-360x488.jpg\",\"lien\":\"https:\\\\/\\\\/if-maroc.org\\\\/rabat\\\\/film\\\\/une-affaire-de-famille\\\\/\",\"description\":\"Au retour d\\\\u2019une nouvelle exp\\\\u00e9dition de vol \\\\u00e0 l\\\\u2019\\\\u00e9talage, Osamu et son fils recueillent dans la rue une petite fille qui semble livr\\\\u00e9e \\\\u00e0 elle-m\\\\u00eame.\\\\u00a0D\\\\u2019abord r\\\\u00e9ticente \\\\u00e0 l\\\\u2019id\\\\u00e9e d\\\\u2019abriter l\\\\u2019enfant pour la nuit, la femme d\\\\u2019Osamu accepte de s\\\\u2019occuper d\\\\u2019elle lorsqu\\\\u2018elle comprend\\\\u00a0que ses parents la maltraitent.\\\\u00a0En d\\\\u00e9pit de leur pauvret\\\\u00e9, survivant de petites rapines qui compl\\\\u00e8tent leurs maigres salaires, les membres de cette famille semblent vivre heureux \\\\u2013 jusqu\\\\u2019\\\\u00e0 ce qu\\\\u2019un incident r\\\\u00e9v\\\\u00e8le brutalement leurs plus terribles secrets\\\\u2026\",\"lieu\":\"Salle G\\\\u00e9rard Philipe                                                                     -                                                                     Rabat\"},{\"noms\":\"L\\\\u2019EMPEREUR DE PARIS\",\"date\":\" dimanche 03 mars\",\"heure\":\" 18:30\",\"image\":\"https:\\\\/\\\\/if-maroc.org\\\\/rabat\\\\/wp-content\\\\/uploads\\\\/sites\\\\/18\\\\/2018\\\\/12\\\\/lempereurdeparis-360x488.jpg\",\"lien\":\"https:\\\\/\\\\/if-maroc.org\\\\/rabat\\\\/film\\\\/lempereur-de-paris\\\\/\",\"description\":\"Avertissement : des sc\\\\u00e8nes, des propos ou des images peuvent heurter la sensibilit\\\\u00e9 des spectateurs\",\"lieu\":\"Salle G\\\\u00e9rard Philipe                                                                     -                                                                     Rabat\"},{\"noms\":\"SAUVER OU PERIR\",\"date\":\" dimanche 10 mars\",\"heure\":\" 18:30\",\"image\":\"https:\\\\/\\\\/if-maroc.org\\\\/rabat\\\\/wp-content\\\\/uploads\\\\/sites\\\\/18\\\\/2018\\\\/12\\\\/suaverouperir-360x488.jpg\",\"lien\":\"https:\\\\/\\\\/if-maroc.org\\\\/rabat\\\\/film\\\\/sauver-ou-perir\\\\/\",\"description\":\"Franck est Sapeur-Pompier de Paris. Il sauve des gens. Il vit dans la caserne avec sa femme qui accouche de jumelles. Il est heureux. Lors d\\\\u2019une intervention sur un incendie, il se sacrifie pour sauver ses hommes.\\\\u00a0A son r\\\\u00e9veil dans un centre de traitement des Grands Br\\\\u00fbl\\\\u00e9s, il comprend que son visage a fondu dans les flammes. Il va devoir r\\\\u00e9apprendre \\\\u00e0 vivre, et accepter d\\\\u2019\\\\u00eatre sauv\\\\u00e9 \\\\u00e0 son tour.\",\"lieu\":\"Salle G\\\\u00e9rard Philipe                                                                     -                                                                     Rabat\"},{\"noms\":\"DOUBLES VIES\",\"date\":\" dimanche 17 mars\",\"heure\":\" 18:30\",\"image\":\"https:\\\\/\\\\/if-maroc.org\\\\/rabat\\\\/wp-content\\\\/uploads\\\\/sites\\\\/18\\\\/2018\\\\/12\\\\/doublesvies-360x488.jpg\",\"lien\":\"https:\\\\/\\\\/if-maroc.org\\\\/rabat\\\\/film\\\\/doubles-vies\\\\/\",\"description\":\"Alain, la quarantaine, dirige une c\\\\u00e9l\\\\u00e8bre maison d\\\\u2019\\\\u00e9dition, o\\\\u00f9 son ami L\\\\u00e9onard, \\\\u00e9crivain boh\\\\u00e8me publie ses romans. La femme d\\\\u2019Alain, S\\\\u00e9l\\\\u00e9na, est la star d\\\\u2019une s\\\\u00e9rie t\\\\u00e9l\\\\u00e9 populaire et Val\\\\u00e9rie, compagne de Leonard, assiste vaillamment un homme politique. Bien qu\\\\u2019ils soient amis de longue date, Alain s\\\\u2019appr\\\\u00eate \\\\u00e0 refuser le nouveau manuscrit de L\\\\u00e9onard\\\\u2026 Les relations entre les deux couples, plus entrelac\\\\u00e9es qu\\\\u2019il n\\\\u2019y para\\\\u00eet, vont se compliquer.\",\"lieu\":\"Salle G\\\\u00e9rard Philipe                                                                     -                                                                     Rabat\"},{\"noms\":\"EDMOND\",\"date\":\" dimanche 24 mars\",\"heure\":\" 18:30\",\"image\":\"https:\\\\/\\\\/if-maroc.org\\\\/rabat\\\\/wp-content\\\\/uploads\\\\/sites\\\\/18\\\\/2018\\\\/12\\\\/edmond-360x488.jpg\",\"lien\":\"https:\\\\/\\\\/if-maroc.org\\\\/rabat\\\\/film\\\\/edmond\\\\/\",\"description\":\"D\\\\u00e9cembre 1897, Paris. Edmond Rostand n\\\\u2019a pas encore trente ans mais d\\\\u00e9j\\\\u00e0 deux enfants et beaucoup d\\\\u2019angoisses. Il n\\\\u2019a rien \\\\u00e9crit depuis deux ans. En d\\\\u00e9sespoir de cause, il propose au grand Constant Coquelin une pi\\\\u00e8ce nouvelle, une com\\\\u00e9die h\\\\u00e9ro\\\\u00efque, en vers, pour les f\\\\u00eates. Seul souci : elle n\\\\u2019est pas encore \\\\u00e9crite. Faisant fi des caprices des actrices, des exigences de ses producteurs corses, de la jalousie de sa femme, des histoires de c\\\\u0153ur de son meilleur ami et du manque d\\\\u2019enthousiasme de l\\\\u2019ensemble de son entourage, Edmond se met \\\\u00e0 \\\\u00e9crire cette pi\\\\u00e8ce \\\\u00e0 laquelle personne ne croit. Pour l\\\\u2019instant, il n\\\\u2019a que le titre : \\\\u00ab Cyrano de Bergerac \\\\u00bb.\",\"lieu\":\"Salle G\\\\u00e9rard Philipe                                                                     -                                                                     Rabat\"},{\"noms\":\"MIRA\\\\u00cf, MA PETITE SOEUR\",\"date\":\" dimanche 31 mars\",\"heure\":\" 18:30\",\"image\":\"https:\\\\/\\\\/if-maroc.org\\\\/rabat\\\\/wp-content\\\\/uploads\\\\/sites\\\\/18\\\\/2018\\\\/12\\\\/miraimapetitesoeur-360x488.jpg\",\"lien\":\"https:\\\\/\\\\/if-maroc.org\\\\/rabat\\\\/film\\\\/mirai-ma-petite-soeur\\\\/\",\"description\":\"Kun est un petit gar\\\\u00e7on \\\\u00e0 l\\\\u2019enfance heureuse jusqu\\\\u2019\\\\u00e0 l\\\\u2019arriv\\\\u00e9e de Mira\\\\u00ef, sa petite s\\\\u0153ur. Jaloux de ce b\\\\u00e9b\\\\u00e9 qui monopolise l\\\\u2019attention de ses parents, il se replie peu \\\\u00e0 peu sur lui-m\\\\u00eame. Au fond de son jardin, o\\\\u00f9 il se r\\\\u00e9fugie souvent, se trouve un arbre g\\\\u00e9n\\\\u00e9alo-ma-gique. Soudain, Kun est propuls\\\\u00e9 dans un monde fantastique o\\\\u00f9 vont se m\\\\u00ealer pass\\\\u00e9 et futur. Il rencontrera tour \\\\u00e0 tour ses proches \\\\u00e0 divers \\\\u00e2ges de leur vie : sa m\\\\u00e8re petite fille, son arri\\\\u00e8re-grand-p\\\\u00e8re dans sa tr\\\\u00e9pidante jeunesse et sa petite s\\\\u0153ur adolescente ! A travers ces aventures, Kun va d\\\\u00e9couvrir sa propre histoire.\",\"lieu\":\"Salle G\\\\u00e9rard Philipe                                                                     -                                                                     Rabat\"},{\"noms\":\"CHAMBOULTOUT\",\"date\":\" dimanche 26 mai\",\"heure\":\" 21:30\",\"image\":\"https:\\\\/\\\\/if-maroc.org\\\\/rabat\\\\/wp-content\\\\/uploads\\\\/sites\\\\/18\\\\/2019\\\\/05\\\\/chamboultout-360x488.jpg\",\"lien\":\"https:\\\\/\\\\/if-maroc.org\\\\/rabat\\\\/film\\\\/chamboultout\\\\/\",\"description\":\"B\\\\u00e9atrice c\\\\u00e9l\\\\u00e8bre avec les siens la sortie de son livre, dans lequel elle raconte l\\\\u2019accident de son mari qui a boulevers\\\\u00e9 leur vie. Fr\\\\u00e9d\\\\u00e9ric a perdu la vue et ne peut s\\\\u2019emp\\\\u00eacher de dire tout ce qu\\\\u2019il pense\\\\u00a0: c\\\\u2019est devenu un homme impr\\\\u00e9visible et sans filtre bien que toujours aussi dr\\\\u00f4le et s\\\\u00e9duisant. Mais ce livre, v\\\\u00e9ritable hymne-\\\\u00e0-la-vie, va d\\\\u00e9clencher un joyeux pugilat car m\\\\u00eame si B\\\\u00e9atrice a chang\\\\u00e9 les noms, chacun de ses proches cherche \\\\u00e0 retrouver son personnage. Le groupe d\\\\u2019amis et la famille tanguent\\\\u2026 mais certaines temp\\\\u00eates sont salutaires.\",\"lieu\":\"Salle G\\\\u00e9rard Philipe                                                                     -                                                                     Rabat\"},{\"noms\":\"LE MYSTERE HENRI PICK\",\"date\":\" dimanche 05 mai\",\"heure\":\" 18:30\",\"image\":\"https:\\\\/\\\\/if-maroc.org\\\\/rabat\\\\/wp-content\\\\/uploads\\\\/sites\\\\/18\\\\/2019\\\\/04\\\\/le-mystere-360x488.jpg\",\"lien\":\"https:\\\\/\\\\/if-maroc.org\\\\/rabat\\\\/film\\\\/le-mystere-henri-pick\\\\/\",\"description\":\"Dans une \\\\u00e9trange biblioth\\\\u00e8que au c\\\\u0153ur de la Bretagne, une jeune \\\\u00e9ditrice d\\\\u00e9couvre un manuscrit extraordinaire qu\\\\u2019elle d\\\\u00e9cide aussit\\\\u00f4t de publier. Le roman devient un best-seller. Mais son auteur, Henri Pick, un pizza\\\\u00efolo breton d\\\\u00e9c\\\\u00e9d\\\\u00e9 deux ans plus t\\\\u00f4t, n\\\\u2019aurait selon sa veuve jamais \\\\u00e9crit autre chose que ses listes de courses. Persuad\\\\u00e9 qu\\\\u2019il s\\\\u2019agit d\\\\u2019une imposture, un c\\\\u00e9l\\\\u00e8bre critique litt\\\\u00e9raire d\\\\u00e9cide de mener l\\\\u2019enqu\\\\u00eate, avec l\\\\u2019aide inattendue de la fille de l\\\\u2019\\\\u00e9nigmatique Henri Pick.\",\"lieu\":\"Salle G\\\\u00e9rard Philipe                                                                     -                                                                     Rabat\"},{\"noms\":\"REBELLES\",\"date\":\" dimanche 12 mai\",\"heure\":\" 21:30\",\"image\":\"https:\\\\/\\\\/if-maroc.org\\\\/rabat\\\\/wp-content\\\\/uploads\\\\/sites\\\\/18\\\\/2019\\\\/05\\\\/vf0oqfazcumu1axa13_5oarxbgs-360x488.jpg\",\"lien\":\"https:\\\\/\\\\/if-maroc.org\\\\/rabat\\\\/film\\\\/annulation-de-la-projection-du-film-black-snake\\\\/\",\"description\":\"Attention, nouveaux horaires Ramadan.\",\"lieu\":\"Salle G\\\\u00e9rard Philipe                                                                     -                                                                     Rabat\"},{\"noms\":\"CONVOI EXCEPTIONNEL\",\"date\":\" dimanche 19 mai\",\"heure\":\" 21:30\",\"image\":\"https:\\\\/\\\\/if-maroc.org\\\\/rabat\\\\/wp-content\\\\/uploads\\\\/sites\\\\/18\\\\/2019\\\\/05\\\\/convoi-360x488.jpg\",\"lien\":\"https:\\\\/\\\\/if-maroc.org\\\\/rabat\\\\/film\\\\/rebelles\\\\/\",\"description\":\"C\\\\u2019est l\\\\u2019histoire d\\\\u2019un type qui va trop vite et d\\\\u2019un gros qui est trop lent. Foster rencontre Taupin. Le premier est en pardessus, le deuxi\\\\u00e8me en guenilles. Tout cela serait banal si l\\\\u2019un des deux n\\\\u2019\\\\u00e9tait en possession d\\\\u2019un sc\\\\u00e9nario effrayant, le sc\\\\u00e9nario de leur vie et de leur mort. Il suffit d\\\\u2019ouvrir les pages et de trembler\\\\u2026\",\"lieu\":\"Salle G\\\\u00e9rard Philipe                                                                     -                                                                     Rabat\"},{\"noms\":\"LA LUTTE DES CLASSES\",\"date\":\" dimanche 02 juin\",\"heure\":\" 21:30\",\"image\":\"https:\\\\/\\\\/if-maroc.org\\\\/rabat\\\\/wp-content\\\\/uploads\\\\/sites\\\\/18\\\\/2019\\\\/05\\\\/lutte-360x488.jpg\",\"lien\":\"https:\\\\/\\\\/if-maroc.org\\\\/rabat\\\\/film\\\\/5842\\\\/\",\"description\":\"\\\\u00a0\",\"lieu\":\"Salle G\\\\u00e9rard Philipe                                                                     -                                                                     Rabat\"},{\"noms\":\"KABULLYWOOD\",\"date\":\" dimanche 09 juin\",\"heure\":\" 18:30\",\"image\":\"https:\\\\/\\\\/if-maroc.org\\\\/rabat\\\\/wp-content\\\\/uploads\\\\/sites\\\\/18\\\\/2019\\\\/05\\\\/kabullywood-360x488.jpg\",\"lien\":\"https:\\\\/\\\\/if-maroc.org\\\\/rabat\\\\/film\\\\/la-lutte-des-classes\\\\/\",\"description\":\"A Kaboul en Afghanistan, quatre \\\\u00e9tudiants assoiff\\\\u00e9s de vie d\\\\u00e9cident d\\\\u2019accomplir un projet audacieux\\\\u00a0: r\\\\u00e9nover un cin\\\\u00e9ma abandonn\\\\u00e9, qui a miraculeusement surv\\\\u00e9cu \\\\u00e0 30 ans de guerre. Comme un acte de r\\\\u00e9sistance contre le fondamentalisme des talibans, ils vont aller au bout de leur r\\\\u00eave pour la libert\\\\u00e9, la culture, le cin\\\\u00e9ma\\\\u2026\",\"lieu\":\"Salle G\\\\u00e9rard Philipe                                                                     -                                                                     Rabat\"},{\"noms\":\"GR\\\\u00c2CE \\\\u00c1 DIEU\",\"date\":\" mardi 18 juin\",\"heure\":\" 20:00\",\"image\":\"https:\\\\/\\\\/if-maroc.org\\\\/rabat\\\\/wp-content\\\\/uploads\\\\/sites\\\\/18\\\\/2019\\\\/06\\\\/b9718622259z-1_20190218130432_000gsdd0iejm-1-0-360x488.jpg\",\"lien\":\"https:\\\\/\\\\/if-maroc.org\\\\/rabat\\\\/film\\\\/kabullywood\\\\/\",\"description\":\"Drame de Fran\\\\u00e7ois Ozon, avec Melvil Poupaud, Denis M\\\\u00e9lochet, Swann Arlaud \\\\/ 2h17\",\"lieu\":\"Cin\\\\u00e9ma Renaissance                                                                     -                                                                     Rabat\"},{\"noms\":\"TEL AVIV ON FIRE\",\"date\":\" dimanche 23 juin\",\"heure\":\" 18:30\",\"image\":\"https:\\\\/\\\\/if-maroc.org\\\\/rabat\\\\/wp-content\\\\/uploads\\\\/sites\\\\/18\\\\/2019\\\\/06\\\\/telaviv-360x488.jpg\",\"lien\":\"https:\\\\/\\\\/if-maroc.org\\\\/rabat\\\\/film\\\\/grace-a-dieu\\\\/\",\"description\":\"Salam, 30 ans, vit \\\\u00e0 J\\\\u00e9rusalem. Il est\\\\u00a0Palestinien et stagiaire sur le tournage de la s\\\\u00e9rie arabe \\\\u00e0 succ\\\\u00e8s\\\\u00a0Tel Aviv on Fire\\\\u00a0!\\\\u00a0Tous les matins,\\\\u00a0il traverse le m\\\\u00eame check-point pour aller travailler \\\\u00e0 Ramallah.\\\\u00a0 Un jour, Salam se fait arr\\\\u00eater par un officier isra\\\\u00e9lien, Assi, fan de la s\\\\u00e9rie, et pour s\\\\u2019en sortir, il pr\\\\u00e9tend en \\\\u00eatre le sc\\\\u00e9nariste.\\\\u00a0Pris \\\\u00e0 son propre pi\\\\u00e8ge, Salam va se voir imposer par Assi un nouveau sc\\\\u00e9nario. Evidemment, rien ne se passera comme pr\\\\u00e9vu.\",\"lieu\":\"Salle G\\\\u00e9rard Philipe                                                                     -                                                                     Rabat\"},{\"noms\":\"Spider-Man: Far From Home\",\"date\":\"Le 11 juillet\",\"heure\":\"\\\\u00e0 17h00 - 22h30\",\"image\":\"http:\\\\/\\\\/www.renaissance.ma\\\\/img\\\\/affiche\\\\/600\\\\/thumb_Spider.jpg\",\"lien\":\"http:\\\\/\\\\/www.renaissance.ma\\\\/content\\\\/enSalle\",\"description\":\"L\\'araign\\\\u00e9e sympa du quartier d\\\\u00e9cide de rejoindre ses meilleurs amis Ned, MJ, et le reste de la bande pour des vacances en Europe. Cependant, le projet de Peter de laisser son costume de super-h\\\\u00e9ros derri\\\\u00e8re lui pendant quelques semaines est rapidement compromis quand il accepte \\\\u00e0 contrecoeur d\\'aider Nick Fury \\\\u00e0 d\\\\u00e9couvrir le myst\\\\u00e8re de plusieurs attaques de cr\\\\u00e9atures, qui ravagent le continent !\",\"lieu\":\"Espace Renaissance\"},{\"noms\":\"Toy Story 4\",\"date\":\"Du 10 au 11 juillet\",\"heure\":\"Tous les jours \\\\u00e0   14h30\",\"image\":\"http:\\\\/\\\\/www.renaissance.ma\\\\/img\\\\/affiche\\\\/601\\\\/thumb_toy4.jpg\",\"lien\":\"http:\\\\/\\\\/www.renaissance.ma\\\\/content\\\\/enSalle\",\"description\":\"Woody a toujours privil\\\\u00e9gi\\\\u00e9 la joie et le bien-\\\\u00eatre de ses jeunes propri\\\\u00e9taires \\\\u2013 Andy puis Bonnie \\\\u2013 et de ses compagnons, n\\'h\\\\u00e9sitant pas \\\\u00e0 prendre tous les risques pour eux, aussi inconsid\\\\u00e9r\\\\u00e9s soient-ils. L\\'arriv\\\\u00e9e de Forky un nouveau jouet qui ne veut pas en \\\\u00eatre un dans la chambre de Bonnie met toute la petite bande en \\\\u00e9moi. C\\'est le d\\\\u00e9but d\\'une grande aventure et d\\'un extraordinaire voyage pour Woody et ses amis. Le cowboy va d\\\\u00e9couvrir \\\\u00e0 quel point le monde peut \\\\u00eatre vaste pour un jouet\\\\u2026\",\"lieu\":\"Espace Renaissance\"}]'"
      ]
     },
     "execution_count": 6,
     "metadata": {},
     "output_type": "execute_result"
    }
   ],
   "source": [
    "data"
   ]
  },
  {
   "cell_type": "code",
   "execution_count": 7,
   "metadata": {},
   "outputs": [],
   "source": [
    "from git import Repo"
   ]
  },
  {
   "cell_type": "code",
   "execution_count": 8,
   "metadata": {},
   "outputs": [
    {
     "name": "stdout",
     "output_type": "stream",
     "text": [
      "Done\n"
     ]
    }
   ],
   "source": [
    "import base64\n",
    "from github import Github\n",
    "from github import InputGitTreeElement\n",
    "\n",
    "\n",
    "commit_message = 'adding a json file'\n",
    "master_ref = repo.get_git_ref('heads/master')\n",
    "master_sha = master_ref.object.sha\n",
    "base_tree = repo.get_git_tree(master_sha)\n",
    "\n",
    "file_name = 'xcombine_records.json' # it's in the same \n",
    "\n",
    "element_list = []\n",
    "\n",
    "\n",
    "\"\"\"\n",
    "\n",
    "Arguments\n",
    "#1 : Name of the file as it would appear in github\n",
    "#2 : File permissions\n",
    "#3 : data type (blob : binary)\n",
    "#4 : file data after being read\n",
    "\"\"\"\n",
    "element = InputGitTreeElement(file_name,'100644', 'blob', data) # \n",
    "element_list.append(element)\n",
    "\n",
    "tree = repo.create_git_tree(element_list,base_tree)# needs a \"list\" as a first argument\n",
    "\n",
    "\"\"\" Weird shit, but works .... I know, I am ashamed\"\"\"\n",
    "\n",
    "parent = repo.get_git_commit(master_sha)\n",
    "commit = repo.create_git_commit(commit_message, tree, [parent])\n",
    "master_ref.edit(commit.sha)\n",
    "\n",
    "print('Done')"
   ]
  },
  {
   "cell_type": "code",
   "execution_count": null,
   "metadata": {},
   "outputs": [],
   "source": []
  },
  {
   "cell_type": "code",
   "execution_count": null,
   "metadata": {},
   "outputs": [],
   "source": []
  }
 ],
 "metadata": {
  "kernelspec": {
   "display_name": "Python 3",
   "language": "python",
   "name": "python3"
  },
  "language_info": {
   "codemirror_mode": {
    "name": "ipython",
    "version": 3
   },
   "file_extension": ".py",
   "mimetype": "text/x-python",
   "name": "python",
   "nbconvert_exporter": "python",
   "pygments_lexer": "ipython3",
   "version": "3.6.1"
  }
 },
 "nbformat": 4,
 "nbformat_minor": 2
}
