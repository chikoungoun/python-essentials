{
 "cells": [
  {
   "cell_type": "markdown",
   "metadata": {},
   "source": [
    "# 8 - Finding the Geocode from an adress / finding the neighborhood of a place"
   ]
  },
  {
   "cell_type": "code",
   "execution_count": 1,
   "metadata": {},
   "outputs": [],
   "source": [
    "import requests\n",
    "import json"
   ]
  },
  {
   "cell_type": "code",
   "execution_count": 2,
   "metadata": {},
   "outputs": [],
   "source": [
    "with open('api_key.txt') as f:\n",
    "    api_key = f.readline()\n",
    "    f.close"
   ]
  },
  {
   "cell_type": "markdown",
   "metadata": {},
   "source": [
    "** requires Google places API **"
   ]
  },
  {
   "cell_type": "code",
   "execution_count": 3,
   "metadata": {},
   "outputs": [],
   "source": [
    "url = \"https://maps.googleapis.com/maps/api/geocode/json?\""
   ]
  },
  {
   "cell_type": "code",
   "execution_count": 4,
   "metadata": {},
   "outputs": [],
   "source": [
    "query = \"pharmacie dahab, rabat\""
   ]
  },
  {
   "cell_type": "code",
   "execution_count": 5,
   "metadata": {},
   "outputs": [],
   "source": [
    "r = requests.get(url + 'address=' + query +'&key=' + api_key) "
   ]
  },
  {
   "cell_type": "code",
   "execution_count": 6,
   "metadata": {},
   "outputs": [],
   "source": [
    "x = r.json()"
   ]
  },
  {
   "cell_type": "code",
   "execution_count": 7,
   "metadata": {},
   "outputs": [
    {
     "data": {
      "text/plain": [
       "{'results': [{'address_components': [{'long_name': '72 Bis',\n",
       "     'short_name': '72 Bis',\n",
       "     'types': ['street_number']},\n",
       "    {'long_name': 'Avenue El Hadj Hassan',\n",
       "     'short_name': 'Avenue El Hadj Hassan',\n",
       "     'types': ['route']},\n",
       "    {'long_name': 'El Akkari',\n",
       "     'short_name': 'El Akkari',\n",
       "     'types': ['political', 'sublocality', 'sublocality_level_1']},\n",
       "    {'long_name': 'Rabat',\n",
       "     'short_name': 'Rabat',\n",
       "     'types': ['locality', 'political']},\n",
       "    {'long_name': 'Rabat-Salé-Kénitra',\n",
       "     'short_name': 'Rabat-Salé-Kénitra',\n",
       "     'types': ['administrative_area_level_1', 'political']},\n",
       "    {'long_name': 'Morocco',\n",
       "     'short_name': 'MA',\n",
       "     'types': ['country', 'political']},\n",
       "    {'long_name': '10050', 'short_name': '10050', 'types': ['postal_code']}],\n",
       "   'formatted_address': '72 Bis Avenue El Hadj Hassan, Rabat 10050, Morocco',\n",
       "   'geometry': {'location': {'lat': 34.00872, 'lng': -6.8548081},\n",
       "    'location_type': 'ROOFTOP',\n",
       "    'viewport': {'northeast': {'lat': 34.0100689802915,\n",
       "      'lng': -6.853459119708497},\n",
       "     'southwest': {'lat': 34.0073710197085, 'lng': -6.856157080291502}}},\n",
       "   'place_id': 'ChIJfYDpeGRspw0RtgEMinkykcc',\n",
       "   'plus_code': {'compound_code': '245W+F3 Rabat, Morocco',\n",
       "    'global_code': '8C6M245W+F3'},\n",
       "   'types': ['establishment',\n",
       "    'health',\n",
       "    'pharmacy',\n",
       "    'point_of_interest',\n",
       "    'store']}],\n",
       " 'status': 'OK'}"
      ]
     },
     "execution_count": 7,
     "metadata": {},
     "output_type": "execute_result"
    }
   ],
   "source": [
    "x"
   ]
  },
  {
   "cell_type": "code",
   "execution_count": 8,
   "metadata": {},
   "outputs": [],
   "source": [
    "y = x['results'][0]"
   ]
  },
  {
   "cell_type": "code",
   "execution_count": 9,
   "metadata": {},
   "outputs": [],
   "source": [
    "n = y['address_components'][2]"
   ]
  },
  {
   "cell_type": "code",
   "execution_count": 10,
   "metadata": {},
   "outputs": [
    {
     "data": {
      "text/plain": [
       "{'long_name': 'El Akkari',\n",
       " 'short_name': 'El Akkari',\n",
       " 'types': ['political', 'sublocality', 'sublocality_level_1']}"
      ]
     },
     "execution_count": 10,
     "metadata": {},
     "output_type": "execute_result"
    }
   ],
   "source": [
    "n"
   ]
  },
  {
   "cell_type": "code",
   "execution_count": 11,
   "metadata": {},
   "outputs": [],
   "source": [
    "neighborhood = n['long_name']"
   ]
  },
  {
   "cell_type": "code",
   "execution_count": 12,
   "metadata": {},
   "outputs": [
    {
     "data": {
      "text/plain": [
       "'El Akkari'"
      ]
     },
     "execution_count": 12,
     "metadata": {},
     "output_type": "execute_result"
    }
   ],
   "source": [
    "neighborhood"
   ]
  },
  {
   "cell_type": "markdown",
   "metadata": {},
   "source": [
    "** Test for sublocality **"
   ]
  },
  {
   "cell_type": "code",
   "execution_count": 13,
   "metadata": {},
   "outputs": [
    {
     "data": {
      "text/plain": [
       "{'results': [{'address_components': [{'long_name': '72 Bis',\n",
       "     'short_name': '72 Bis',\n",
       "     'types': ['street_number']},\n",
       "    {'long_name': 'Avenue El Hadj Hassan',\n",
       "     'short_name': 'Avenue El Hadj Hassan',\n",
       "     'types': ['route']},\n",
       "    {'long_name': 'El Akkari',\n",
       "     'short_name': 'El Akkari',\n",
       "     'types': ['political', 'sublocality', 'sublocality_level_1']},\n",
       "    {'long_name': 'Rabat',\n",
       "     'short_name': 'Rabat',\n",
       "     'types': ['locality', 'political']},\n",
       "    {'long_name': 'Rabat-Salé-Kénitra',\n",
       "     'short_name': 'Rabat-Salé-Kénitra',\n",
       "     'types': ['administrative_area_level_1', 'political']},\n",
       "    {'long_name': 'Morocco',\n",
       "     'short_name': 'MA',\n",
       "     'types': ['country', 'political']},\n",
       "    {'long_name': '10050', 'short_name': '10050', 'types': ['postal_code']}],\n",
       "   'formatted_address': '72 Bis Avenue El Hadj Hassan, Rabat 10050, Morocco',\n",
       "   'geometry': {'location': {'lat': 34.00872, 'lng': -6.8548081},\n",
       "    'location_type': 'ROOFTOP',\n",
       "    'viewport': {'northeast': {'lat': 34.0100689802915,\n",
       "      'lng': -6.853459119708497},\n",
       "     'southwest': {'lat': 34.0073710197085, 'lng': -6.856157080291502}}},\n",
       "   'place_id': 'ChIJfYDpeGRspw0RtgEMinkykcc',\n",
       "   'plus_code': {'compound_code': '245W+F3 Rabat, Morocco',\n",
       "    'global_code': '8C6M245W+F3'},\n",
       "   'types': ['establishment',\n",
       "    'health',\n",
       "    'pharmacy',\n",
       "    'point_of_interest',\n",
       "    'store']}],\n",
       " 'status': 'OK'}"
      ]
     },
     "execution_count": 13,
     "metadata": {},
     "output_type": "execute_result"
    }
   ],
   "source": [
    "x"
   ]
  },
  {
   "cell_type": "code",
   "execution_count": 19,
   "metadata": {},
   "outputs": [],
   "source": [
    "res = x['results']"
   ]
  },
  {
   "cell_type": "code",
   "execution_count": 27,
   "metadata": {},
   "outputs": [],
   "source": [
    "addr = res[0]['address_components']"
   ]
  },
  {
   "cell_type": "code",
   "execution_count": 28,
   "metadata": {},
   "outputs": [
    {
     "data": {
      "text/plain": [
       "[{'long_name': '72 Bis', 'short_name': '72 Bis', 'types': ['street_number']},\n",
       " {'long_name': 'Avenue El Hadj Hassan',\n",
       "  'short_name': 'Avenue El Hadj Hassan',\n",
       "  'types': ['route']},\n",
       " {'long_name': 'El Akkari',\n",
       "  'short_name': 'El Akkari',\n",
       "  'types': ['political', 'sublocality', 'sublocality_level_1']},\n",
       " {'long_name': 'Rabat',\n",
       "  'short_name': 'Rabat',\n",
       "  'types': ['locality', 'political']},\n",
       " {'long_name': 'Rabat-Salé-Kénitra',\n",
       "  'short_name': 'Rabat-Salé-Kénitra',\n",
       "  'types': ['administrative_area_level_1', 'political']},\n",
       " {'long_name': 'Morocco',\n",
       "  'short_name': 'MA',\n",
       "  'types': ['country', 'political']},\n",
       " {'long_name': '10050', 'short_name': '10050', 'types': ['postal_code']}]"
      ]
     },
     "execution_count": 28,
     "metadata": {},
     "output_type": "execute_result"
    }
   ],
   "source": [
    "addr"
   ]
  },
  {
   "cell_type": "code",
   "execution_count": 39,
   "metadata": {},
   "outputs": [
    {
     "name": "stdout",
     "output_type": "stream",
     "text": [
      "\n",
      "\n",
      "\n",
      "\n",
      "El Akkari\n",
      "\n",
      "\n",
      "\n",
      "\n",
      "\n",
      "\n",
      "\n",
      "\n",
      "\n",
      "\n"
     ]
    }
   ],
   "source": [
    "neigh = \"\"\n",
    "for i in addr:\n",
    "    \n",
    "    if ('sublocality_level_1' in i['types']):\n",
    "        print(i['long_name'])\n",
    "        neigh = i['long_name']\n",
    "    \n",
    "    print(\"\\n\")"
   ]
  },
  {
   "cell_type": "code",
   "execution_count": 40,
   "metadata": {},
   "outputs": [
    {
     "data": {
      "text/plain": [
       "'El Akkari'"
      ]
     },
     "execution_count": 40,
     "metadata": {},
     "output_type": "execute_result"
    }
   ],
   "source": [
    "neigh"
   ]
  },
  {
   "cell_type": "code",
   "execution_count": null,
   "metadata": {},
   "outputs": [],
   "source": []
  }
 ],
 "metadata": {
  "kernelspec": {
   "display_name": "Python 3",
   "language": "python",
   "name": "python3"
  },
  "language_info": {
   "codemirror_mode": {
    "name": "ipython",
    "version": 3
   },
   "file_extension": ".py",
   "mimetype": "text/x-python",
   "name": "python",
   "nbconvert_exporter": "python",
   "pygments_lexer": "ipython3",
   "version": "3.6.1"
  }
 },
 "nbformat": 4,
 "nbformat_minor": 2
}
