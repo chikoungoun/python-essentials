{
 "cells": [
  {
   "cell_type": "markdown",
   "metadata": {},
   "source": [
    "# 6 - Search Neighborhood"
   ]
  },
  {
   "cell_type": "code",
   "execution_count": 1,
   "metadata": {},
   "outputs": [],
   "source": [
    "import requests\n",
    "import json"
   ]
  },
  {
   "cell_type": "code",
   "execution_count": 2,
   "metadata": {},
   "outputs": [],
   "source": [
    "with open('api_key.txt') as f:\n",
    "    api_key = f.readline()\n",
    "    f.close"
   ]
  },
  {
   "cell_type": "markdown",
   "metadata": {},
   "source": [
    "** requires Google places API **"
   ]
  },
  {
   "cell_type": "code",
   "execution_count": 3,
   "metadata": {},
   "outputs": [],
   "source": [
    "url = \"https://maps.googleapis.com/maps/api/place/textsearch/json?\""
   ]
  },
  {
   "cell_type": "code",
   "execution_count": 4,
   "metadata": {},
   "outputs": [],
   "source": [
    "query = \"pharmacie rabat\""
   ]
  },
  {
   "cell_type": "code",
   "execution_count": 5,
   "metadata": {},
   "outputs": [],
   "source": [
    "r = requests.get(url + 'query=' + query +'&key=' + api_key+'&types=neighborhood') "
   ]
  },
  {
   "cell_type": "code",
   "execution_count": 6,
   "metadata": {},
   "outputs": [],
   "source": [
    "x = r.json()"
   ]
  },
  {
   "cell_type": "code",
   "execution_count": 7,
   "metadata": {},
   "outputs": [
    {
     "data": {
      "text/plain": [
       "{'html_attributions': [],\n",
       " 'results': [{'formatted_address': 'حي التقدم، Rabat, Morocco',\n",
       "   'geometry': {'location': {'lat': 33.9853548, 'lng': -6.8176828},\n",
       "    'viewport': {'northeast': {'lat': 33.9897369, 'lng': -6.8090343},\n",
       "     'southwest': {'lat': 33.9784921, 'lng': -6.8271875}}},\n",
       "   'icon': 'https://maps.gstatic.com/mapfiles/place_api/icons/geocode-71.png',\n",
       "   'id': '914d083de135a2415e7343654f9d274b79ffce59',\n",
       "   'name': 'حي التقدم',\n",
       "   'photos': [{'height': 1860,\n",
       "     'html_attributions': ['<a href=\"https://maps.google.com/maps/contrib/108370673901067834287\">Mourad Chaachoui</a>'],\n",
       "     'photo_reference': 'CmRaAAAAtJLXvdvfmZceCx10uUMjKjZA_W0f54vcGjPvcfgz3X_GIN9z7_W80T9C6t0RoUU7lXueKSMcvSHnWvT466-dESNFn2CMoOF589xLZbBv9kKq5Plf82f9I1ovt3rpf9VFEhA7CCHSYVlx6LB8mIKXJnr2GhRJgIVmApimZLs_k6fb8tD7j82kzQ',\n",
       "     'width': 4032}],\n",
       "   'place_id': 'ChIJaSa1nUFrpw0R1eNzfu86kv4',\n",
       "   'reference': 'ChIJaSa1nUFrpw0R1eNzfu86kv4',\n",
       "   'types': ['neighborhood', 'political']}],\n",
       " 'status': 'OK'}"
      ]
     },
     "execution_count": 7,
     "metadata": {},
     "output_type": "execute_result"
    }
   ],
   "source": [
    "x"
   ]
  },
  {
   "cell_type": "code",
   "execution_count": 8,
   "metadata": {},
   "outputs": [],
   "source": [
    "y = x['results']"
   ]
  },
  {
   "cell_type": "code",
   "execution_count": 9,
   "metadata": {},
   "outputs": [
    {
     "name": "stdout",
     "output_type": "stream",
     "text": [
      "حي التقدم\n"
     ]
    }
   ],
   "source": [
    "for i in range(len(y)):\n",
    "    print(y[i]['name'])"
   ]
  },
  {
   "cell_type": "code",
   "execution_count": null,
   "metadata": {},
   "outputs": [],
   "source": []
  }
 ],
 "metadata": {
  "kernelspec": {
   "display_name": "Python 3",
   "language": "python",
   "name": "python3"
  },
  "language_info": {
   "codemirror_mode": {
    "name": "ipython",
    "version": 3
   },
   "file_extension": ".py",
   "mimetype": "text/x-python",
   "name": "python",
   "nbconvert_exporter": "python",
   "pygments_lexer": "ipython3",
   "version": "3.6.1"
  }
 },
 "nbformat": 4,
 "nbformat_minor": 2
}
