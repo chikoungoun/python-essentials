{
 "cells": [
  {
   "cell_type": "markdown",
   "metadata": {},
   "source": [
    "# Selenium X BeautifulSoup"
   ]
  },
  {
   "cell_type": "markdown",
   "metadata": {},
   "source": [
    "Mixing up Selenium and BeautifulSoup to get unaccessible data hidden in structures like iframes"
   ]
  },
  {
   "cell_type": "code",
   "execution_count": 3,
   "metadata": {},
   "outputs": [],
   "source": [
    "from selenium import webdriver"
   ]
  },
  {
   "cell_type": "code",
   "execution_count": 4,
   "metadata": {},
   "outputs": [],
   "source": [
    "driver = webdriver.Chrome(\"C:/webdrivers/chromedriver.exe\")"
   ]
  },
  {
   "cell_type": "code",
   "execution_count": 5,
   "metadata": {},
   "outputs": [],
   "source": [
    "driver.get('https://nunzioweb.com/iframes-example.htm')"
   ]
  },
  {
   "cell_type": "markdown",
   "metadata": {},
   "source": [
    "Get The whole content in a variable"
   ]
  },
  {
   "cell_type": "code",
   "execution_count": 6,
   "metadata": {},
   "outputs": [],
   "source": [
    "page = driver.page_source"
   ]
  },
  {
   "cell_type": "markdown",
   "metadata": {},
   "source": [
    "Transfer it to a BeautifulSoup object"
   ]
  },
  {
   "cell_type": "code",
   "execution_count": 8,
   "metadata": {},
   "outputs": [],
   "source": [
    "from bs4 import BeautifulSoup"
   ]
  },
  {
   "cell_type": "code",
   "execution_count": 9,
   "metadata": {},
   "outputs": [],
   "source": [
    "soup = BeautifulSoup(page,'html.parser')"
   ]
  },
  {
   "cell_type": "code",
   "execution_count": 10,
   "metadata": {},
   "outputs": [
    {
     "data": {
      "text/plain": [
       "<html><head>\n",
       "<meta content=\"text/html; charset=utf-8\" http-equiv=\"Content-Type\"/>\n",
       "<title>Nunzio's IFRAME Examples</title>\n",
       "<link href=\"css/nunziostyle8.css\" rel=\"stylesheet\" type=\"text/css\"/>\n",
       "<script src=\"js/animwindow.js\" type=\"text/javascript\"></script>\n",
       "</head>\n",
       "<body>\n",
       "<a name=\"top\"></a>\n",
       "<script language=\"JavaScript\" src=\"js/sbar.js\" type=\"text/javascript\"></script>\n",
       "<!-- Begin Header -->\n",
       "<table border=\"0\" cellpadding=\"0\" cellspacing=\"0\" width=\"100%\">\n",
       "<tbody><tr>\n",
       "<td style=\"background-image: url('http://nunzioweb.com/images/top.gif')\"><img alt=\"\" height=\"10\" src=\"http://nunzioweb.com/images/spacer.gif\" width=\"1\"/></td>\n",
       "<td align=\"right\" style=\"background-image: url('http://nunzioweb.com/images/top.gif')\" valign=\"top\" width=\"100%\"><img alt=\"\" height=\"1\" src=\"http://nunzioweb.com/images/spacer.gif\" width=\"1\"/></td>\n",
       "</tr><tr>\n",
       "<td align=\"center\" style=\"background-color: #35679a\"><img alt=\"\" height=\"40\" src=\"http://nunzioweb.com/images/spacer.gif\" width=\"1\"/></td>\n",
       "<td align=\"left\" bgcolor=\"#35679a\" nowrap=\"\"><div align=\"center\" style=\"font-family:arial, helvetica, sans-serif; font-size:26pt; color:#ffffff;\"><a href=\"http://nunzioweb.com/\" name=\"top\" onfocus=\"this.blur();\"><img alt=\"Nunzio's Little Place On The Web\" border=\"0\" height=\"33\" src=\"http://nunzioweb.com/images/header.gif\" width=\"490\"/></a></div></td>\n",
       "</tr><tr>\n",
       "<td style=\"background-image: url('http://nunzioweb.com/images/bottom.gif')\"><img alt=\"\" height=\"13\" src=\"http://nunzioweb.com/images/spacer.gif\" width=\"1\"/></td>\n",
       "<td align=\"left\" style=\"background-image: url('http://nunzioweb.com/images/bottom.gif')\" valign=\"bottom\" width=\"80%\"><img alt=\"\" height=\"1\" src=\"http://nunzioweb.com/images/spacer.gif\" width=\"1\"/></td>\n",
       "</tr><tr>\n",
       "<td valign=\"top\"><img alt=\"\" height=\"1\" src=\"http://nunzioweb.com/images/spacer.gif\" width=\"1\"/></td>\n",
       "</tr></tbody></table>\n",
       "<!-- End Header -->\n",
       "<div align=\"center\" class=\"mainrand\"><span style=\"font-size:20pt\">Nunzio's IFRAME Examples</span></div><br/>\n",
       "<div align=\"center\"><form action=\"\">\n",
       "<input name=\"Close\" onclick=\"javascript:self.close()\" style=\"width: 120px\" type=\"button\" value=\"Close Window\"/>\n",
       "<img alt=\"\" border=\"0\" height=\"2\" src=\"http://nunzioweb.com/images/clear.gif\" width=\"20\"/>\n",
       "<input name=\"Main\" onclick=\"javascript:top.location.href='http://nunzioweb.com'\" onfocus=\"this.blur();\" style=\"width: 80px\" type=\"button\" value=\"Main Site\"/>\n",
       "</form></div>\n",
       "<table align=\"center\" border=\"0\" class=\"main\" width=\"650\"><tbody><tr>\n",
       "<td>Article by <a href=\"http://nunzioweb.com/\" onfocus=\"this.blur();\" target=\"_blank\">Nunzio Fartalone</a> (aka Nunzio390; aka Phzzz; aka Tom)<br/>\n",
       "*Note: Also see Nunzio's article on <a href=\"#\" onclick=\"expandingWindow('http://nunzioweb.com/misc/movies/iframe-embed_example.htm');return false\" onfocus=\"this.blur();\">Using IFRAMES for Embedded Video</a>\n",
       "<br/><br/>An <span style=\"color: #cc0000; font-weight: bold\">IF</span>rame (<span style=\"color: #cc0000; font-weight: bold\">I</span>nline <span style=\"color: #cc0000; font-weight: bold\">F</span>rame) is an <a href=\"http://en.wikipedia.org/wiki/HTML_element\" onfocus=\"this.blur();\" target=\"_blank\">HTML element</a> which makes it possible to embed another <a href=\"http://en.wikipedia.org/wiki/HTML\" onfocus=\"this.blur();\" target=\"_blank\">HTML</a> document inside the main document. In essence, it's a floating frame inserted within a web page which is not bound to the side of a browser window.\n",
       "\n",
       "<br/><br/>This page contains examples of how I've used IFrames at <a href=\"http://nunzioweb.com/\" onfocus=\"this.blur();\" target=\"_blank\">my site</a>. I'll only show 3 examples, even though there are many more IFrames in use throughout my site. These 3 examples should be enough, to give you an understanding of how I utilize IFrames within web pages and also allow for <a href=\"http://validator.w3.org/\" onfocus=\"this.blur();\" target=\"_blank\">HTML validation</a> with the <a href=\"http://w3c.org/\" onfocus=\"this.blur();\" target=\"_blank\">W3C consortium</a>. You should also refer to <a href=\"http://nunzioweb.com/index.shtml\" onfocus=\"this.blur();\" target=\"_blank\">index.shtml</a> at my site (where similar IFrames are in use) while reading through this page.<br/><br/><br/>\n",
       "<hr class=\"hr3\"/><div align=\"center\" class=\"header2\">IFRAME Example #1</div>\n",
       "<table align=\"center\" border=\"0\" cellpadding=\"0\" cellspacing=\"2\" class=\"main5\"><tbody><tr>\n",
       "<td><iframe frameborder=\"0\" height=\"40\" scrolling=\"no\" src=\"001.htm\" width=\"450\">[Your browser does not support frames or is currently configured not to display frames. Please use an up-to-date browser that is capable of displaying frames.]</iframe></td>\n",
       "</tr></tbody></table>\n",
       "<br/>Now, the above music controls \"appear\" to be embedded directly into this page, but in reality what you see above is an IFrame, calling in a completely <a href=\"001.htm\" onfocus=\"this.blur();\" target=\"_blank\">separate page</a> that actually contains the HTML5 audio code for the media player controls. Why did I do it that way? Well that's part of the beauty of using IFrames. There is NO way that a web page would ever get through the <a href=\"http://validator.w3.org/\" onfocus=\"this.blur();\" target=\"_blank\">W3C Markup Validator</a> if it detected the \"extended\" HTML5 audio coding on the page. So, in order to have my page(s) validate, I use the IFrame where the \"bad\" code (according to the W3C consortium geeks) cannot be parsed/picked up on my web page. Using an IFrame in this way allows this page (see <a href=\"#validate\" onfocus=\"this.blur();\">bottom</a> of this page), and any of my other pages, to indeed conform to W3C recommendations and pass as valid HTML 4.01. </td></tr></tbody></table>\n",
       "<table align=\"center\" border=\"0\" cellpadding=\"3\" cellspacing=\"1\" width=\"70%\"><tbody><tr>\n",
       "<td class=\"main\"><b>The HTML5 audio code for the above IFrame within the separate page that displays the music controls ...</b></td></tr><tr>\n",
       "<td class=\"code\">\n",
       "\n",
       "&lt;div class=\"audio-player\"&gt;\n",
       "&lt;audio id=\"audio-player\" src=\"http://nunzioweb.com/player/mixed/Gimme-Dat-Ding.mp3\" type=\"audio/mp3\" controls=\"controls\"&gt;&lt;/audio&gt;\n",
       "&lt;/div&gt;<br/>\n",
       "\n",
       "&lt;script type=\"text/javascript\"&gt;\n",
       "$(function(){\n",
       "  $('#audio-player').mediaelementplayer({\n",
       "    alwaysShowControls: true,\n",
       "    features: ['playpause','progress','volume'],\n",
       "    audioVolume: 'horizontal',\n",
       "    audioWidth: 450,\n",
       "    audioHeight: 40,\n",
       "    iPadUseNativeControls: true,\n",
       "    iPhoneUseNativeControls: true,\n",
       "    AndroidUseNativeControls: true\n",
       "  });\n",
       "});\n",
       "&lt;/script&gt;\n",
       "\n",
       "\n",
       "</td></tr></tbody></table>\n",
       "<br/><br/>\n",
       "<table align=\"center\" border=\"0\" class=\"main\" width=\"650\"><tbody><tr>\n",
       "<td colspan=\"2\">\n",
       "<div align=\"center\" style=\"font-family: verdana, arial, helvetica, sans-serif; font-weight: bold; font-size:10pt; color:#000; line-height: 14pt;\"><a href=\"#top\" onfocus=\"this.blur();\">Back to Top</a> | <a href=\"javascript:self.close()\" onfocus=\"this.blur();\">Close this window</a></div><br/>\n",
       "<hr class=\"hr3\"/><div align=\"center\" class=\"header2\">IFRAME Example #2</div></td></tr><tr>\n",
       "<td valign=\"top\">The Killer Klown graphic that you see on the right *appears* to be situated directly alongside this text on both this page and on my <a href=\"index.shtml\" onfocus=\"this.blur();\" target=\"_blank\">index page</a>, but it is NOT. In reality there is another IFrame being used. Here again, the IFrame is calling in a completely <a href=\"001-opacity-example.htm\" onfocus=\"this.blur();\" target=\"_blank\">separate page</a> that actually contains the graphic. Why did I do it that way? Again... there is NO way that this page or my index page would ever get through the <a href=\"http://validator.w3.org/\" onfocus=\"this.blur();\" target=\"_blank\">W3C Markup Validator</a> if the validator  detected the *supposedly bad* opacity coding I use for the graphic (for an interesting cross-browser mouse-over effect). So, in order to have my index page (and this page) successfully conform to W3C recommendations for valid HTML 4.01, I use the IFrame to the right so that the *supposedly bad* opacity code cannot be parsed/picked up on this or my index page. That *bad* code exists within the IFrame's targeted page.<br/><br/>So, the Killer Klown graphic that you see on the right is NOT contained on this page, but is instead coded within the IFrame's <a href=\"001-opacity-example.htm\" onfocus=\"this.blur();\" target=\"_blank\">targeted page</a>, and the width and height of the IFrame are set to accommodate the image's dimensions.</td>\n",
       "<td align=\"right\"><iframe frameborder=\"0\" height=\"355\" scrolling=\"no\" src=\"001-opacity-example.htm\" width=\"233\">[Your browser does not support frames or is currently configured not to display frames. Please use an up-to-date browser that is capable of displaying frames.]\n",
       "</iframe></td></tr></tbody></table>\n",
       "<table align=\"center\" border=\"0\" cellpadding=\"3\" cellspacing=\"1\" width=\"70%\"><tbody><tr>\n",
       "<td class=\"main\"><b>Code for the above IFrame referencing the separate page displaying the Killer Klown graphic ...</b></td></tr><tr>\n",
       "<td class=\"code\">&lt;iframe src=\"001-opacity-example.htm\" width=\"233\" height=\"355\" scrolling=\"no\" frameborder=\"0\"&gt;[Your browser does not support frames or is currently configured not to display frames. Please use an up-to-date browser that is capable of displaying frames.]<br/>\n",
       "&lt;/iframe&gt;</td></tr></tbody></table>\n",
       "<br/><br/>\n",
       "<table align=\"center\" border=\"0\" class=\"main\" width=\"650\"><tbody><tr><td>\n",
       "<b>Of Importance:</b><br/>You should have already noticed this, but if you didn't, click on both these links:\n",
       "<br/>1. <a href=\"001.htm\" onfocus=\"this.blur();\" target=\"_blank\">001.htm</a> (IFRAME #1's targeted separate page)\n",
       "<br/>2. <a href=\"001-opacity-example.htm\" onfocus=\"this.blur();\" target=\"_blank\">001-opacity-example.htm</a> (IFRAME #2's targeted separate page)\n",
       "<br/><br/>\n",
       "You will see how the music controls in the first targeted page and the Killer Klown graphic located within the second targeted page BOTH hug the upper-left corners of both browser windows. It is very important to have margins and padding set to ZERO at the targeted pages. If not, placement within the IFrames gets all messed up.<br/><br/>\n",
       "So, if you were to also examine the source code of each of those 2 pages, you will see that both pages contain CSS styling that will eliminate page borders...</td></tr></tbody></table>\n",
       "<table align=\"center\" border=\"0\" cellpadding=\"3\" cellspacing=\"1\" width=\"70%\"><tbody><tr>\n",
       "<td class=\"main\"><b>CSS styling that I've used at the targeted pages to eliminate page borders ...</b></td></tr><tr>\n",
       "<td class=\"code\">&lt;style type=\"text/css\"&gt;<br/>\n",
       "body {<br/> \n",
       "padding-top:0;<br/>\n",
       "padding-bottom:0;<br/>\n",
       "padding-left:0;<br/>\n",
       "padding-right:0;<br/>\n",
       "margin-top:0;<br/>\n",
       "margin-bottom:0;<br/>\n",
       "margin-left:0;<br/>\n",
       "margin-right:0;<br/>\n",
       "}<br/>\n",
       "&lt;/style&gt;</td></tr></tbody></table>\n",
       "<br/><br/>\n",
       "<table align=\"center\" border=\"0\" class=\"main\" width=\"650\"><tbody><tr>\n",
       "<td colspan=\"2\">\n",
       "<div align=\"center\" style=\"font-family: verdana, arial, helvetica, sans-serif; font-weight: bold; font-size:10pt; color:#000; line-height: 14pt;\"><a href=\"#top\" onfocus=\"this.blur();\">Back to Top</a> | <a href=\"javascript:self.close()\" onfocus=\"this.blur();\">Close this window</a></div><br/>\n",
       "<hr class=\"hr3\"/><div align=\"center\" class=\"header2\">IFRAME Example #3</div></td></tr><tr>\n",
       "<td valign=\"top\"><span class=\"main\">455 Rocket Lyrics:</span>\n",
       "<table align=\"center\" bgcolor=\"#35679a\" border=\"0\" cellpadding=\"0\" cellspacing=\"3\" width=\"300\"><tbody><tr>\n",
       "<td><table align=\"center\" bgcolor=\"#B9D4E6\" border=\"0\" cellpadding=\"0\" cellspacing=\"6\" width=\"100%\"><tbody><tr>\n",
       "<td><iframe frameborder=\"0\" height=\"288\" name=\"frame\" scrolling=\"auto\" src=\"lyrics/455Rocket.html\" width=\"100%\">[Your user agent does not support frames or is currently configured not to display frames.]</iframe></td></tr></tbody></table>\n",
       "</td></tr></tbody></table></td>\n",
       "<td>This example contains \"scrollable\" content. In the first 2 IFrame examples, scrolling was set to NO... (scrolling=\"no\").  In this example scrolling is set to AUTO... (scrolling=\"auto\") and frameborder is set to ON... (frameborder=\"1\"). In the first 2 examples frameborder was set to OFF... (frameborder=\"0\"). That was because I was \"hiding\" the fact that they were not part of the index page.<br/><br/>\n",
       "The \"455 Rocket Lyrics\" scrollable IFrame situated directly to the left of this text is contained within its own table but that table is also contained within the left cell for page positioning. Here again, the IFrame is calling in a completely <a href=\"lyrics/455Rocket.html\" onfocus=\"this.blur();\" target=\"_blank\">separate page</a> that actually contains the lyrics to the song. I'm hiding nothing from the W3C consortium this time though. The \"autoscroll\" scripting in use does not \"violate\" any of their geek standards.</td></tr></tbody></table>\n",
       "<table align=\"center\" border=\"0\" cellpadding=\"3\" cellspacing=\"1\" width=\"70%\"><tbody><tr>\n",
       "<td class=\"main\"><b>Code for the above IFrame referencing the separate page displaying the song lyrics ...</b></td></tr><tr>\n",
       "<td class=\"code\">&lt;table border=\"0\" width=\"300\" align=\"center\" cellpadding=\"0\" cellspacing=\"3\" bgcolor=\"#35679a\"&gt;&lt;tr&gt;<br/>\n",
       "&lt;td&gt;&lt;table border=\"0\" width=\"100%\" align=\"center\" cellpadding=\"0\" cellspacing=\"6\" bgcolor=\"#B9D4E6\"&gt;&lt;tr&gt;<br/>\n",
       "&lt;td&gt;&lt;iframe name=\"frame\" src=\"lyrics/455Rocket.html\" width=\"100%\" height=\"288\" scrolling=\"auto\" frameborder=\"0\"&gt;[Your user agent does not support frames or is currently configured not to display frames.]&lt;/iframe&gt;&lt;/td&gt;<br/>\n",
       "&lt;/tr&gt;&lt;/table&gt;<br/>\n",
       "&lt;/td&gt;&lt;/tr&gt;&lt;/table&gt;</td></tr></tbody></table>\n",
       "<a name=\"validate\"> </a>\n",
       "<table align=\"center\" border=\"0\" class=\"main\" width=\"650\"><tbody><tr>\n",
       "<td>Note that in the above code I've positioned the IFrame within 2 nested tables and varied both the cellspacing values and background (bgcolor) values of each nested table. This is what gives it that rather nice border (well, suitable for my site anyway).</td></tr></tbody></table>\n",
       "<br/><table align=\"center\" border=\"0\" class=\"mainsmall\"><tbody><tr>\n",
       "<td> </td>\n",
       "<td valign=\"top\"><a class=\"mainlink\" href=\"#\" onclick=\"expandingWindow('http://validator.w3.org/check?uri=http%3A%2F%2Fnunzioweb.com%2Fiframes-example.htm');return false\" onfocus=\"this.blur();\"><img alt=\"Valid HTML 4.01!\" border=\"0\" height=\"31\" src=\"images/valid-html401.gif\" width=\"88\"/></a>\n",
       "</td><td width=\"32\"> </td>\n",
       "<td valign=\"top\"><a class=\"mainlink\" href=\"#\" onclick=\"expandingWindow('http://jigsaw.w3.org/css-validator/validator?uri=http://nunzioweb.com/iframes-example.htm');return false\" onfocus=\"this.blur();\"><img alt=\"Valid CSS!\" border=\"0\" src=\"images/vcss.gif\" style=\"border:0;width:88px;height:31px\"/></a></td>\n",
       "</tr></tbody></table>\n",
       "<br/><div align=\"center\"><form action=\"\">\n",
       "<input name=\"Close\" onclick=\"javascript:self.close()\" style=\"width: 120px\" type=\"button\" value=\"Close Window\"/>\n",
       "<img alt=\"\" border=\"0\" height=\"2\" src=\"http://nunzioweb.com/images/clear.gif\" width=\"20\"/>\n",
       "<input name=\"Main\" onclick=\"javascript:top.location.href='http://nunzioweb.com'\" onfocus=\"this.blur();\" style=\"width: 80px\" type=\"button\" value=\"Main Site\"/>\n",
       "<img alt=\"\" border=\"0\" height=\"2\" src=\"http://nunzioweb.com/images/clear.gif\" width=\"20\"/>\n",
       "<input name=\"Top\" onclick=\"javascript:top.location.href='#top'\" onfocus=\"this.blur();\" style=\"width: 120px\" type=\"button\" value=\"Back To Top\"/>\n",
       "</form></div><br/>\n",
       "</body></html>"
      ]
     },
     "execution_count": 10,
     "metadata": {},
     "output_type": "execute_result"
    }
   ],
   "source": [
    "soup"
   ]
  },
  {
   "cell_type": "code",
   "execution_count": 12,
   "metadata": {},
   "outputs": [],
   "source": [
    "iframes = soup.find_all('iframe')"
   ]
  },
  {
   "cell_type": "code",
   "execution_count": 13,
   "metadata": {},
   "outputs": [
    {
     "data": {
      "text/plain": [
       "[<iframe frameborder=\"0\" height=\"40\" scrolling=\"no\" src=\"001.htm\" width=\"450\">[Your browser does not support frames or is currently configured not to display frames. Please use an up-to-date browser that is capable of displaying frames.]</iframe>,\n",
       " <iframe frameborder=\"0\" height=\"355\" scrolling=\"no\" src=\"001-opacity-example.htm\" width=\"233\">[Your browser does not support frames or is currently configured not to display frames. Please use an up-to-date browser that is capable of displaying frames.]\n",
       " </iframe>,\n",
       " <iframe frameborder=\"0\" height=\"288\" name=\"frame\" scrolling=\"auto\" src=\"lyrics/455Rocket.html\" width=\"100%\">[Your user agent does not support frames or is currently configured not to display frames.]</iframe>]"
      ]
     },
     "execution_count": 13,
     "metadata": {},
     "output_type": "execute_result"
    }
   ],
   "source": [
    "iframes"
   ]
  },
  {
   "cell_type": "code",
   "execution_count": 14,
   "metadata": {},
   "outputs": [
    {
     "data": {
      "text/plain": [
       "3"
      ]
     },
     "execution_count": 14,
     "metadata": {},
     "output_type": "execute_result"
    }
   ],
   "source": [
    "len(iframes)"
   ]
  },
  {
   "cell_type": "code",
   "execution_count": null,
   "metadata": {},
   "outputs": [],
   "source": []
  }
 ],
 "metadata": {
  "kernelspec": {
   "display_name": "Python 3",
   "language": "python",
   "name": "python3"
  },
  "language_info": {
   "codemirror_mode": {
    "name": "ipython",
    "version": 3
   },
   "file_extension": ".py",
   "mimetype": "text/x-python",
   "name": "python",
   "nbconvert_exporter": "python",
   "pygments_lexer": "ipython3",
   "version": "3.6.1"
  }
 },
 "nbformat": 4,
 "nbformat_minor": 2
}
