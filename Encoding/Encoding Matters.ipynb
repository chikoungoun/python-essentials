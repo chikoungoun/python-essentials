{
 "cells": [
  {
   "cell_type": "markdown",
   "metadata": {},
   "source": [
    "# Encoding matters"
   ]
  },
  {
   "cell_type": "markdown",
   "metadata": {},
   "source": [
    "### Determine the encoding system of the environment"
   ]
  },
  {
   "cell_type": "code",
   "execution_count": 1,
   "metadata": {},
   "outputs": [
    {
     "name": "stdout",
     "output_type": "stream",
     "text": [
      "utf-8\n"
     ]
    }
   ],
   "source": [
    "import sys\n",
    "\n",
    "print(sys.getdefaultencoding())"
   ]
  },
  {
   "cell_type": "markdown",
   "metadata": {},
   "source": [
    "### Listing the encodings"
   ]
  },
  {
   "cell_type": "code",
   "execution_count": 13,
   "metadata": {},
   "outputs": [
    {
     "name": "stdout",
     "output_type": "stream",
     "text": [
      "- ascii\n",
      "- base64_codec\n",
      "- big5\n",
      "- big5hkscs\n",
      "- bz2_codec\n",
      "- cp037\n",
      "- cp1026\n",
      "- cp1125\n",
      "- cp1140\n",
      "- cp1250\n",
      "- cp1251\n",
      "- cp1252\n",
      "- cp1253\n",
      "- cp1254\n",
      "- cp1255\n",
      "- cp1256\n",
      "- cp1257\n",
      "- cp1258\n",
      "- cp273\n",
      "- cp424\n",
      "- cp437\n",
      "- cp500\n",
      "- cp775\n",
      "- cp850\n",
      "- cp852\n",
      "- cp855\n",
      "- cp857\n",
      "- cp858\n",
      "- cp860\n",
      "- cp861\n",
      "- cp862\n",
      "- cp863\n",
      "- cp864\n",
      "- cp865\n",
      "- cp866\n",
      "- cp869\n",
      "- cp932\n",
      "- cp949\n",
      "- cp950\n",
      "- euc_jis_2004\n",
      "- euc_jisx0213\n",
      "- euc_jp\n",
      "- euc_kr\n",
      "- gb18030\n",
      "- gb2312\n",
      "- gbk\n",
      "- hex_codec\n",
      "- hp_roman8\n",
      "- hz\n",
      "- iso2022_jp\n",
      "- iso2022_jp_1\n",
      "- iso2022_jp_2\n",
      "- iso2022_jp_2004\n",
      "- iso2022_jp_3\n",
      "- iso2022_jp_ext\n",
      "- iso2022_kr\n",
      "- iso8859_10\n",
      "- iso8859_11\n",
      "- iso8859_13\n",
      "- iso8859_14\n",
      "- iso8859_15\n",
      "- iso8859_16\n",
      "- iso8859_2\n",
      "- iso8859_3\n",
      "- iso8859_4\n",
      "- iso8859_5\n",
      "- iso8859_6\n",
      "- iso8859_7\n",
      "- iso8859_8\n",
      "- iso8859_9\n",
      "- johab\n",
      "- koi8_r\n",
      "- kz1048\n",
      "- latin_1\n",
      "- mac_cyrillic\n",
      "- mac_greek\n",
      "- mac_iceland\n",
      "- mac_latin2\n",
      "- mac_roman\n",
      "- mac_turkish\n",
      "- mbcs\n",
      "- ptcp154\n",
      "- quopri_codec\n",
      "- rot_13\n",
      "- shift_jis\n",
      "- shift_jis_2004\n",
      "- shift_jisx0213\n",
      "- tactis\n",
      "- tis_620\n",
      "- utf_16\n",
      "- utf_16_be\n",
      "- utf_16_le\n",
      "- utf_32\n",
      "- utf_32_be\n",
      "- utf_32_le\n",
      "- utf_7\n",
      "- utf_8\n",
      "- uu_codec\n",
      "- zlib_codec\n",
      "\n"
     ]
    }
   ],
   "source": [
    "import encodings\n",
    "\n",
    "print (''.join('- ' + e + '\\n' for e in sorted(set(encodings.aliases.aliases.values()))))"
   ]
  },
  {
   "cell_type": "markdown",
   "metadata": {},
   "source": [
    "### Encoding example"
   ]
  },
  {
   "cell_type": "raw",
   "metadata": {},
   "source": [
    "text = \"this is it\"\n",
    "text_encode = text.encode(encoding=\"utf-8\")"
   ]
  },
  {
   "cell_type": "code",
   "execution_count": 8,
   "metadata": {},
   "outputs": [
    {
     "data": {
      "text/plain": [
       "b'this is it'"
      ]
     },
     "execution_count": 8,
     "metadata": {},
     "output_type": "execute_result"
    }
   ],
   "source": [
    "text_encode"
   ]
  },
  {
   "cell_type": "markdown",
   "metadata": {},
   "source": [
    "### Fixing BeautifulSoup encoding problems"
   ]
  },
  {
   "cell_type": "markdown",
   "metadata": {},
   "source": [
    "Crawling data in python can generate some encoding problems depending on the IDE. "
   ]
  },
  {
   "cell_type": "code",
   "execution_count": 3,
   "metadata": {},
   "outputs": [
    {
     "data": {
      "text/plain": [
       "<Response [200]>"
      ]
     },
     "execution_count": 3,
     "metadata": {},
     "output_type": "execute_result"
    }
   ],
   "source": [
    "import requests\n",
    "\n",
    "\n",
    "url = 'https://www.ticket.ma/events/search?q=rabat'\n",
    "response = requests.get(url)\n",
    "response"
   ]
  },
  {
   "cell_type": "markdown",
   "metadata": {},
   "source": [
    "We can fix these by explicitely define the encoding"
   ]
  },
  {
   "cell_type": "code",
   "execution_count": 4,
   "metadata": {},
   "outputs": [
    {
     "name": "stderr",
     "output_type": "stream",
     "text": [
      "c:\\users\\marwane\\appdata\\local\\programs\\python\\python36-32\\lib\\site-packages\\bs4\\__init__.py:146: UserWarning: You provided Unicode markup but also provided a value for from_encoding. Your from_encoding will be ignored.\n",
      "  warnings.warn(\"You provided Unicode markup but also provided a value for from_encoding. Your from_encoding will be ignored.\")\n"
     ]
    },
    {
     "data": {
      "text/plain": [
       "bs4.BeautifulSoup"
      ]
     },
     "execution_count": 4,
     "metadata": {},
     "output_type": "execute_result"
    }
   ],
   "source": [
    "from bs4 import BeautifulSoup\n",
    "\n",
    "soup = BeautifulSoup(response.text,'html.parser',from_encoding=\"utf-8\")\n",
    "type(soup)\n"
   ]
  },
  {
   "cell_type": "markdown",
   "metadata": {},
   "source": [
    "### Trick n°2 :"
   ]
  },
  {
   "cell_type": "markdown",
   "metadata": {},
   "source": [
    "Downloading the file in an encoded format. (Not the best if we need to crawl several files in my opinion)"
   ]
  },
  {
   "cell_type": "code",
   "execution_count": 9,
   "metadata": {},
   "outputs": [],
   "source": [
    "with open('x.html','w') as f:\n",
    "    f.write(str(soup))"
   ]
  },
  {
   "cell_type": "code",
   "execution_count": null,
   "metadata": {},
   "outputs": [],
   "source": []
  }
 ],
 "metadata": {
  "kernelspec": {
   "display_name": "Python 3",
   "language": "python",
   "name": "python3"
  },
  "language_info": {
   "codemirror_mode": {
    "name": "ipython",
    "version": 3
   },
   "file_extension": ".py",
   "mimetype": "text/x-python",
   "name": "python",
   "nbconvert_exporter": "python",
   "pygments_lexer": "ipython3",
   "version": "3.6.1"
  }
 },
 "nbformat": 4,
 "nbformat_minor": 2
}
