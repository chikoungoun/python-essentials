{
 "cells": [
  {
   "cell_type": "markdown",
   "metadata": {},
   "source": [
    "# First GOOGLE maps tuto"
   ]
  },
  {
   "cell_type": "code",
   "execution_count": 1,
   "metadata": {},
   "outputs": [],
   "source": [
    "import googlemaps \n",
    "from datetime import datetime"
   ]
  },
  {
   "cell_type": "markdown",
   "metadata": {},
   "source": [
    "**Make sure you have enbled all the API necessary in your Google Cloud Profile**"
   ]
  },
  {
   "cell_type": "code",
   "execution_count": 2,
   "metadata": {},
   "outputs": [],
   "source": [
    "gmaps = googlemaps.Client(key='YOUR API KEY')\n"
   ]
  },
  {
   "cell_type": "code",
   "execution_count": 3,
   "metadata": {},
   "outputs": [],
   "source": [
    "# Geocoding an address\n",
    "geocode_result = gmaps.geocode('1600 Amphitheatre Parkway, Mountain View, CA')"
   ]
  },
  {
   "cell_type": "code",
   "execution_count": 4,
   "metadata": {},
   "outputs": [
    {
     "data": {
      "text/plain": [
       "[{'address_components': [{'long_name': '1600',\n",
       "    'short_name': '1600',\n",
       "    'types': ['street_number']},\n",
       "   {'long_name': 'Amphitheatre Parkway',\n",
       "    'short_name': 'Amphitheatre Pkwy',\n",
       "    'types': ['route']},\n",
       "   {'long_name': 'Mountain View',\n",
       "    'short_name': 'Mountain View',\n",
       "    'types': ['locality', 'political']},\n",
       "   {'long_name': 'Santa Clara County',\n",
       "    'short_name': 'Santa Clara County',\n",
       "    'types': ['administrative_area_level_2', 'political']},\n",
       "   {'long_name': 'California',\n",
       "    'short_name': 'CA',\n",
       "    'types': ['administrative_area_level_1', 'political']},\n",
       "   {'long_name': 'United States',\n",
       "    'short_name': 'US',\n",
       "    'types': ['country', 'political']},\n",
       "   {'long_name': '94043', 'short_name': '94043', 'types': ['postal_code']}],\n",
       "  'formatted_address': '1600 Amphitheatre Pkwy, Mountain View, CA 94043, USA',\n",
       "  'geometry': {'location': {'lat': 37.4215756, 'lng': -122.0837873},\n",
       "   'location_type': 'ROOFTOP',\n",
       "   'viewport': {'northeast': {'lat': 37.4229245802915,\n",
       "     'lng': -122.0824383197085},\n",
       "    'southwest': {'lat': 37.4202266197085, 'lng': -122.0851362802915}}},\n",
       "  'place_id': 'ChIJtYuu0V25j4ARwu5e4wwRYgE',\n",
       "  'plus_code': {'compound_code': 'CWC8+JF Mountain View, California, United States',\n",
       "   'global_code': '849VCWC8+JF'},\n",
       "  'types': ['street_address']}]"
      ]
     },
     "execution_count": 4,
     "metadata": {},
     "output_type": "execute_result"
    }
   ],
   "source": [
    "geocode_result"
   ]
  },
  {
   "cell_type": "code",
   "execution_count": null,
   "metadata": {},
   "outputs": [],
   "source": []
  }
 ],
 "metadata": {
  "kernelspec": {
   "display_name": "Python 3",
   "language": "python",
   "name": "python3"
  },
  "language_info": {
   "codemirror_mode": {
    "name": "ipython",
    "version": 3
   },
   "file_extension": ".py",
   "mimetype": "text/x-python",
   "name": "python",
   "nbconvert_exporter": "python",
   "pygments_lexer": "ipython3",
   "version": "3.6.1"
  }
 },
 "nbformat": 4,
 "nbformat_minor": 2
}
