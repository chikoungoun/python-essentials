{
 "cells": [
  {
   "cell_type": "code",
   "execution_count": 1,
   "id": "1f36d4ec",
   "metadata": {},
   "outputs": [],
   "source": [
    "from scipy import stats\n",
    "import random\n",
    "import numpy as np\n",
    "import pandas as pd"
   ]
  },
  {
   "cell_type": "code",
   "execution_count": 2,
   "id": "d3cc7746",
   "metadata": {},
   "outputs": [],
   "source": [
    "values = [1.0, 1.0, 2.0, 1.5, 3.0]"
   ]
  },
  {
   "cell_type": "code",
   "execution_count": 3,
   "id": "8c3f5a0c",
   "metadata": {},
   "outputs": [
    {
     "data": {
      "text/plain": [
       "[3, 2, 5, 6, 1, 2, 1, 1, 2, 5]"
      ]
     },
     "execution_count": 3,
     "metadata": {},
     "output_type": "execute_result"
    }
   ],
   "source": [
    "xs = []\n",
    "for i in range(0,10):\n",
    "    xs.append(random.randint(0,6))\n",
    "    \n",
    "xs"
   ]
  },
  {
   "cell_type": "code",
   "execution_count": 4,
   "id": "63e1924f",
   "metadata": {},
   "outputs": [
    {
     "data": {
      "text/plain": [
       "[3, 4, 1, 4, 2, 3, 4, 4, 1, 4]"
      ]
     },
     "execution_count": 4,
     "metadata": {},
     "output_type": "execute_result"
    }
   ],
   "source": [
    "ys = []\n",
    "for i in range(0,10):\n",
    "    ys.append(random.randint(0,4))\n",
    "    \n",
    "ys"
   ]
  },
  {
   "cell_type": "code",
   "execution_count": 5,
   "id": "29991b67",
   "metadata": {},
   "outputs": [
    {
     "data": {
      "text/plain": [
       "[0.2868557186932845,\n",
       " 1.3779293523411682,\n",
       " 3.154259494972278,\n",
       " 3.48724250121733,\n",
       " 2.3698401527128956,\n",
       " 0.07432116687732737,\n",
       " 0.22105636415883145,\n",
       " 1.713333839826701,\n",
       " 1.7603785402228471,\n",
       " 2.3948518042256413]"
      ]
     },
     "execution_count": 5,
     "metadata": {},
     "output_type": "execute_result"
    }
   ],
   "source": [
    "vs = []\n",
    "for i in range(0,10):\n",
    "    vs.append(random.uniform(0,4))\n",
    "    \n",
    "vs"
   ]
  },
  {
   "cell_type": "code",
   "execution_count": 6,
   "id": "6fb48311",
   "metadata": {},
   "outputs": [],
   "source": [
    "d = {'x':xs,'y':ys,'values':vs}"
   ]
  },
  {
   "cell_type": "code",
   "execution_count": 7,
   "id": "256a9bb3",
   "metadata": {},
   "outputs": [
    {
     "data": {
      "text/html": [
       "<div>\n",
       "<style scoped>\n",
       "    .dataframe tbody tr th:only-of-type {\n",
       "        vertical-align: middle;\n",
       "    }\n",
       "\n",
       "    .dataframe tbody tr th {\n",
       "        vertical-align: top;\n",
       "    }\n",
       "\n",
       "    .dataframe thead th {\n",
       "        text-align: right;\n",
       "    }\n",
       "</style>\n",
       "<table border=\"1\" class=\"dataframe\">\n",
       "  <thead>\n",
       "    <tr style=\"text-align: right;\">\n",
       "      <th></th>\n",
       "      <th>x</th>\n",
       "      <th>y</th>\n",
       "      <th>values</th>\n",
       "    </tr>\n",
       "  </thead>\n",
       "  <tbody>\n",
       "    <tr>\n",
       "      <th>0</th>\n",
       "      <td>3</td>\n",
       "      <td>3</td>\n",
       "      <td>0.286856</td>\n",
       "    </tr>\n",
       "    <tr>\n",
       "      <th>1</th>\n",
       "      <td>2</td>\n",
       "      <td>4</td>\n",
       "      <td>1.377929</td>\n",
       "    </tr>\n",
       "    <tr>\n",
       "      <th>2</th>\n",
       "      <td>5</td>\n",
       "      <td>1</td>\n",
       "      <td>3.154259</td>\n",
       "    </tr>\n",
       "    <tr>\n",
       "      <th>3</th>\n",
       "      <td>6</td>\n",
       "      <td>4</td>\n",
       "      <td>3.487243</td>\n",
       "    </tr>\n",
       "    <tr>\n",
       "      <th>4</th>\n",
       "      <td>1</td>\n",
       "      <td>2</td>\n",
       "      <td>2.369840</td>\n",
       "    </tr>\n",
       "    <tr>\n",
       "      <th>5</th>\n",
       "      <td>2</td>\n",
       "      <td>3</td>\n",
       "      <td>0.074321</td>\n",
       "    </tr>\n",
       "    <tr>\n",
       "      <th>6</th>\n",
       "      <td>1</td>\n",
       "      <td>4</td>\n",
       "      <td>0.221056</td>\n",
       "    </tr>\n",
       "    <tr>\n",
       "      <th>7</th>\n",
       "      <td>1</td>\n",
       "      <td>4</td>\n",
       "      <td>1.713334</td>\n",
       "    </tr>\n",
       "    <tr>\n",
       "      <th>8</th>\n",
       "      <td>2</td>\n",
       "      <td>1</td>\n",
       "      <td>1.760379</td>\n",
       "    </tr>\n",
       "    <tr>\n",
       "      <th>9</th>\n",
       "      <td>5</td>\n",
       "      <td>4</td>\n",
       "      <td>2.394852</td>\n",
       "    </tr>\n",
       "  </tbody>\n",
       "</table>\n",
       "</div>"
      ],
      "text/plain": [
       "   x  y    values\n",
       "0  3  3  0.286856\n",
       "1  2  4  1.377929\n",
       "2  5  1  3.154259\n",
       "3  6  4  3.487243\n",
       "4  1  2  2.369840\n",
       "5  2  3  0.074321\n",
       "6  1  4  0.221056\n",
       "7  1  4  1.713334\n",
       "8  2  1  1.760379\n",
       "9  5  4  2.394852"
      ]
     },
     "execution_count": 7,
     "metadata": {},
     "output_type": "execute_result"
    }
   ],
   "source": [
    "df = pd.DataFrame(d)\n",
    "df"
   ]
  },
  {
   "cell_type": "code",
   "execution_count": 8,
   "id": "74731e5b",
   "metadata": {},
   "outputs": [],
   "source": [
    "binx = [0,1,2,3,4,5,6]\n",
    "\n",
    "biny = [0,1,2,3,4]"
   ]
  },
  {
   "cell_type": "code",
   "execution_count": null,
   "id": "d617c281",
   "metadata": {},
   "outputs": [],
   "source": []
  },
  {
   "cell_type": "code",
   "execution_count": 9,
   "id": "5722b326",
   "metadata": {},
   "outputs": [],
   "source": [
    "ret = stats.binned_statistic_2d(xs,ys,vs,'count',bins=[3,2])"
   ]
  },
  {
   "cell_type": "code",
   "execution_count": 10,
   "id": "5d8404a1",
   "metadata": {},
   "outputs": [
    {
     "data": {
      "text/plain": [
       "BinnedStatistic2dResult(statistic=array([[2., 4.],\n",
       "       [0., 1.],\n",
       "       [1., 2.]]), x_edge=array([1.        , 2.66666667, 4.33333333, 6.        ]), y_edge=array([1. , 2.5, 4. ]), binnumber=array([10,  6, 13, 14,  5,  6,  6,  6,  5, 14], dtype=int64))"
      ]
     },
     "execution_count": 10,
     "metadata": {},
     "output_type": "execute_result"
    }
   ],
   "source": [
    "ret"
   ]
  },
  {
   "cell_type": "code",
   "execution_count": 11,
   "id": "846d8545",
   "metadata": {},
   "outputs": [
    {
     "data": {
      "text/plain": [
       "array([[2., 4.],\n",
       "       [0., 1.],\n",
       "       [1., 2.]])"
      ]
     },
     "execution_count": 11,
     "metadata": {},
     "output_type": "execute_result"
    }
   ],
   "source": [
    "ret.statistic"
   ]
  },
  {
   "cell_type": "code",
   "execution_count": 12,
   "id": "1e581747",
   "metadata": {},
   "outputs": [
    {
     "data": {
      "text/plain": [
       "array([1.        , 2.66666667, 4.33333333, 6.        ])"
      ]
     },
     "execution_count": 12,
     "metadata": {},
     "output_type": "execute_result"
    }
   ],
   "source": [
    "ret.x_edge"
   ]
  },
  {
   "cell_type": "code",
   "execution_count": 13,
   "id": "530186c1",
   "metadata": {},
   "outputs": [
    {
     "data": {
      "text/plain": [
       "array([1. , 2.5, 4. ])"
      ]
     },
     "execution_count": 13,
     "metadata": {},
     "output_type": "execute_result"
    }
   ],
   "source": [
    "ret.y_edge"
   ]
  },
  {
   "cell_type": "code",
   "execution_count": null,
   "id": "1d8833fc",
   "metadata": {},
   "outputs": [],
   "source": []
  }
 ],
 "metadata": {
  "kernelspec": {
   "display_name": "Python 3 (ipykernel)",
   "language": "python",
   "name": "python3"
  },
  "language_info": {
   "codemirror_mode": {
    "name": "ipython",
    "version": 3
   },
   "file_extension": ".py",
   "mimetype": "text/x-python",
   "name": "python",
   "nbconvert_exporter": "python",
   "pygments_lexer": "ipython3",
   "version": "3.8.2"
  }
 },
 "nbformat": 4,
 "nbformat_minor": 5
}
