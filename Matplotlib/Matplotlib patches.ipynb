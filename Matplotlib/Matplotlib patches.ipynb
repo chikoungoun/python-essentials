{
 "cells": [
  {
   "cell_type": "markdown",
   "metadata": {},
   "source": [
    "# Shapes with patches tuto"
   ]
  },
  {
   "cell_type": "code",
   "execution_count": 1,
   "metadata": {},
   "outputs": [],
   "source": [
    "import numpy as np\n",
    "import matplotlib.pyplot as plt\n",
    "import matplotlib.patches as patches"
   ]
  },
  {
   "cell_type": "markdown",
   "metadata": {},
   "source": [
    "### Rectangle"
   ]
  },
  {
   "cell_type": "code",
   "execution_count": 22,
   "metadata": {},
   "outputs": [
    {
     "data": {
      "text/plain": [
       "<matplotlib.patches.Rectangle at 0xe090fa0>"
      ]
     },
     "execution_count": 22,
     "metadata": {},
     "output_type": "execute_result"
    },
    {
     "data": {
      "image/png": "[encoded data removed]",
      "text/plain": [
       "<Figure size 432x288 with 1 Axes>"
      ]
     },
     "metadata": {
      "needs_background": "light"
     },
     "output_type": "display_data"
    }
   ],
   "source": [
    "fig, ax = plt.subplots()\n",
    "\n",
    "# coordinate of shape\n",
    "rectangle_coord = np.array([.4,.6])\n",
    "# shape width\n",
    "rectangle_width = 0.35    \n",
    "# shape height\n",
    "rectangle_height = 0.3\n",
    "# shape color\n",
    "rectangle_fill_color = 'g'\n",
    "\n",
    "# define the shape\n",
    "rect = patches.Rectangle(rectangle_coord,rectangle_width,rectangle_height,color=rectangle_fill_color)\n",
    "\n",
    "#draw the shape*\n",
    "ax.add_patch(rect)"
   ]
  },
  {
   "cell_type": "markdown",
   "metadata": {},
   "source": [
    "## Circle"
   ]
  },
  {
   "cell_type": "code",
   "execution_count": 24,
   "metadata": {},
   "outputs": [
    {
     "data": {
      "text/plain": [
       "<matplotlib.patches.Circle at 0xcf313d0>"
      ]
     },
     "execution_count": 24,
     "metadata": {},
     "output_type": "execute_result"
    },
    {
     "data": {
      "image/png": "[encoded data removed]",
      "text/plain": [
       "<Figure size 432x288 with 1 Axes>"
      ]
     },
     "metadata": {
      "needs_background": "light"
     },
     "output_type": "display_data"
    }
   ],
   "source": [
    "fig, ax = plt.subplots()\n",
    "\n",
    "# coordinate of shape\n",
    "circle_center_coord = np.array([.4,.6])\n",
    "# shape radius\n",
    "circle_radius = 0.15    \n",
    "# shape color\n",
    "circle_fill_color = 'r'\n",
    "\n",
    "# define the shape\n",
    "circ = patches.Circle(circle_center_coord,circle_radius,color=circle_fill_color)\n",
    "\n",
    "#draw the shape\n",
    "ax.add_patch(circ)"
   ]
  },
  {
   "cell_type": "markdown",
   "metadata": {},
   "source": [
    "## Polygon"
   ]
  },
  {
   "cell_type": "code",
   "execution_count": 27,
   "metadata": {},
   "outputs": [
    {
     "data": {
      "text/plain": [
       "<matplotlib.patches.RegularPolygon at 0xe1d71d8>"
      ]
     },
     "execution_count": 27,
     "metadata": {},
     "output_type": "execute_result"
    },
    {
     "data": {
      "image/png": "[encoded data removed]",
      "text/plain": [
       "<Figure size 432x288 with 1 Axes>"
      ]
     },
     "metadata": {
      "needs_background": "light"
     },
     "output_type": "display_data"
    }
   ],
   "source": [
    "fig, ax = plt.subplots()\n",
    "\n",
    "# coordinate of shape\n",
    "polygon_center_coord = np.array([.4,.6])\n",
    "# shape radius\n",
    "polygon_radius = 0.15   \n",
    "# number of sides\n",
    "polygon_border_number = 9\n",
    "# shape color\n",
    "polygon_fill_color = 'b'\n",
    "\n",
    "# define the shape\n",
    "poly = patches.RegularPolygon(polygon_center_coord,polygon_border_number,polygon_radius,color=polygon_fill_color)\n",
    "\n",
    "#draw the shape\n",
    "ax.add_patch(poly)"
   ]
  },
  {
   "cell_type": "markdown",
   "metadata": {},
   "source": [
    "## Fancy Arrow"
   ]
  },
  {
   "cell_type": "code",
   "execution_count": 54,
   "metadata": {},
   "outputs": [
    {
     "data": {
      "text/plain": [
       "<matplotlib.patches.FancyArrow at 0xf34b040>"
      ]
     },
     "execution_count": 54,
     "metadata": {},
     "output_type": "execute_result"
    },
    {
     "data": {
      "image/png": "[encoded data removed]",
      "text/plain": [
       "<Figure size 432x288 with 1 Axes>"
      ]
     },
     "metadata": {
      "needs_background": "light"
     },
     "output_type": "display_data"
    }
   ],
   "source": [
    "fig, ax = plt.subplots()\n",
    "\n",
    "cosmetics = {\n",
    "    'length_includes_head': True,\n",
    "    'head_width': .2,\n",
    "    'head_length': .2,\n",
    "    'width': 0.05,\n",
    "    'facecolor': (1, 0, 1, .6),\n",
    "    'edgecolor': (0, 1, 0, 1)\n",
    "}\n",
    "\n",
    "# coordinate of shape\n",
    "arrow_center_coord = np.array([.4,.6])\n",
    "\n",
    "arrow_fill_color = 'b'\n",
    "\n",
    "# define the shape\n",
    "arrow = patches.FancyArrow(.2,.2,.5,.5,**cosmetics)\n",
    "\n",
    "#draw the shape\n",
    "ax.add_patch(arrow)"
   ]
  },
  {
   "cell_type": "markdown",
   "metadata": {},
   "source": [
    "## Facecolor & Edgecolor"
   ]
  },
  {
   "cell_type": "markdown",
   "metadata": {},
   "source": [
    "The parameters facecolor and edgecolor both control the color parameters of both the interior and border of the shape.  \n",
    "\n",
    "The parameters are presented as a tuple of 4 elements describing each as follow :  \n",
    "\n",
    "(red,green,blue,opacity)\n"
   ]
  },
  {
   "cell_type": "code",
   "execution_count": null,
   "metadata": {},
   "outputs": [],
   "source": []
  }
 ],
 "metadata": {
  "kernelspec": {
   "display_name": "Python 3",
   "language": "python",
   "name": "python3"
  },
  "language_info": {
   "codemirror_mode": {
    "name": "ipython",
    "version": 3
   },
   "file_extension": ".py",
   "mimetype": "text/x-python",
   "name": "python",
   "nbconvert_exporter": "python",
   "pygments_lexer": "ipython3",
   "version": "3.8.2"
  }
 },
 "nbformat": 4,
 "nbformat_minor": 4
}
