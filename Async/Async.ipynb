{
 "cells": [
  {
   "cell_type": "markdown",
   "metadata": {},
   "source": [
    "# Async in Python"
   ]
  },
  {
   "cell_type": "markdown",
   "metadata": {},
   "source": [
    "Source : https://www.youtube.com/watch?v=6ow7xloFy5s&list=PLEsfXFp6DpzQjDBvhNy5YbaBx9j-ZsUe6&index=27"
   ]
  },
  {
   "cell_type": "markdown",
   "metadata": {},
   "source": [
    "### Syncronous part"
   ]
  },
  {
   "cell_type": "code",
   "execution_count": 1,
   "metadata": {},
   "outputs": [],
   "source": [
    "import time"
   ]
  },
  {
   "cell_type": "code",
   "execution_count": 2,
   "metadata": {},
   "outputs": [],
   "source": [
    "iteration_times = [1,2,3,4]"
   ]
  },
  {
   "cell_type": "code",
   "execution_count": 3,
   "metadata": {},
   "outputs": [],
   "source": [
    "def sleeper(seconds, i=1):\n",
    "    start_time = time.time()\n",
    "    if i != -1:\n",
    "        print(f\"{i}\\t{seconds}s\")\n",
    "    time.sleep(seconds)\n",
    "    return time.time() - start_time"
   ]
  },
  {
   "cell_type": "code",
   "execution_count": 4,
   "metadata": {},
   "outputs": [],
   "source": [
    "run_time = 0"
   ]
  },
  {
   "cell_type": "code",
   "execution_count": 5,
   "metadata": {},
   "outputs": [],
   "source": [
    "def main():\n",
    "    global run_time\n",
    "    \n",
    "    tasks = []\n",
    "    for i, second in enumerate(iteration_times):\n",
    "        run_time += sleeper(second,i=i)"
   ]
  },
  {
   "cell_type": "code",
   "execution_count": 6,
   "metadata": {},
   "outputs": [
    {
     "name": "stdout",
     "output_type": "stream",
     "text": [
      "0\t1s\n",
      "1\t2s\n",
      "2\t3s\n",
      "3\t4s\n",
      "Ran for 10.036280632019043 seconds\n"
     ]
    }
   ],
   "source": [
    "main()\n",
    "print(f\"Ran for {run_time} seconds\")"
   ]
  },
  {
   "cell_type": "markdown",
   "metadata": {},
   "source": [
    "### Asynchronous Part immplementation"
   ]
  },
  {
   "cell_type": "code",
   "execution_count": 7,
   "metadata": {},
   "outputs": [],
   "source": [
    "import asyncio"
   ]
  },
  {
   "cell_type": "code",
   "execution_count": 8,
   "metadata": {},
   "outputs": [],
   "source": [
    "# ACHTUNG : Its important to import and run this code as it fixes Async problems on IPython\n",
    "import nest_asyncio\n",
    "nest_asyncio.apply()"
   ]
  },
  {
   "cell_type": "code",
   "execution_count": 9,
   "metadata": {},
   "outputs": [],
   "source": [
    "def async_sleeper(seconds, i=1):\n",
    "    start_time = time.time()\n",
    "    if i != -1:\n",
    "        print(f\"{i}\\t{seconds}s\")\n",
    "    time.sleep(seconds)\n",
    "    return time.time() - start_time"
   ]
  },
  {
   "cell_type": "code",
   "execution_count": 10,
   "metadata": {},
   "outputs": [],
   "source": [
    "run_time = 0"
   ]
  },
  {
   "cell_type": "code",
   "execution_count": 11,
   "metadata": {},
   "outputs": [],
   "source": [
    "async def async_main():\n",
    "    global run_time\n",
    "    \n",
    "    sleeper(1,i=0)\n",
    "    \n",
    "    #for i, second in enumerate(iteration_times):\n",
    "    #    run_time += async_sleeper(second,i=i)"
   ]
  },
  {
   "cell_type": "code",
   "execution_count": 12,
   "metadata": {},
   "outputs": [
    {
     "name": "stdout",
     "output_type": "stream",
     "text": [
      "0\t1s\n",
      "Ran for 0 seconds\n"
     ]
    }
   ],
   "source": [
    "asyncio.run(async_main())\n",
    "print(f\"Ran for {run_time} seconds\")"
   ]
  },
  {
   "cell_type": "code",
   "execution_count": null,
   "metadata": {},
   "outputs": [],
   "source": []
  }
 ],
 "metadata": {
  "kernelspec": {
   "display_name": "Python 3",
   "language": "python",
   "name": "python3"
  },
  "language_info": {
   "codemirror_mode": {
    "name": "ipython",
    "version": 3
   },
   "file_extension": ".py",
   "mimetype": "text/x-python",
   "name": "python",
   "nbconvert_exporter": "python",
   "pygments_lexer": "ipython3",
   "version": "3.8.2"
  }
 },
 "nbformat": 4,
 "nbformat_minor": 4
}
